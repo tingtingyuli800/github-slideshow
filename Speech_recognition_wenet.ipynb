{
  "nbformat": 4,
  "nbformat_minor": 0,
  "metadata": {
    "colab": {
      "name": "Speech_recognition_wenet.ipynb",
      "provenance": [],
      "machine_shape": "hm",
      "authorship_tag": "ABX9TyOwRYE0Z7MgmAXxDy+LamtX",
      "include_colab_link": true
    },
    "kernelspec": {
      "name": "python3",
      "display_name": "Python 3"
    },
    "language_info": {
      "name": "python"
    },
    "accelerator": "GPU"
  },
  "cells": [
    {
      "cell_type": "markdown",
      "metadata": {
        "id": "view-in-github",
        "colab_type": "text"
      },
      "source": [
        "<a href=\"https://colab.research.google.com/github/tingtingyuli800/github-slideshow/blob/tingtingyuli800-patch-1/Speech_recognition_wenet.ipynb\" target=\"_parent\"><img src=\"https://colab.research.google.com/assets/colab-badge.svg\" alt=\"Open In Colab\"/></a>"
      ]
    },
    {
      "cell_type": "code",
      "execution_count": null,
      "metadata": {
        "colab": {
          "base_uri": "https://localhost:8080/"
        },
        "id": "mzAMqoWLF1cV",
        "outputId": "684bd03f-9575-4744-e77b-2e04c43bd93b"
      },
      "outputs": [
        {
          "output_type": "stream",
          "name": "stdout",
          "text": [
            "Mounted at /content/gdrive\n"
          ]
        }
      ],
      "source": [
        "from google.colab import drive\n",
        "drive.mount('/content/gdrive')"
      ]
    },
    {
      "cell_type": "code",
      "source": [
        "import os\n",
        "os.chdir(\"/content/gdrive/My Drive/Colab Notebooks\")"
      ],
      "metadata": {
        "id": "D_215ms1Hb2G"
      },
      "execution_count": null,
      "outputs": []
    },
    {
      "cell_type": "code",
      "source": [
        "#%% [code]\n",
        "gpu_info = !nvidia-smi\n",
        "gpu_info = '\\n'.join(gpu_info)\n",
        "if gpu_info.find('failed') >= 0:\n",
        "  print('Not connected to a GPU')\n",
        "else:\n",
        "  print(gpu_info)"
      ],
      "metadata": {
        "colab": {
          "base_uri": "https://localhost:8080/"
        },
        "id": "2KBGKri8IX44",
        "outputId": "f9837edb-d028-47a0-ff16-988fe253f37b"
      },
      "execution_count": 1,
      "outputs": [
        {
          "output_type": "stream",
          "name": "stdout",
          "text": [
            "Mon May 23 07:07:13 2022       \n",
            "+-----------------------------------------------------------------------------+\n",
            "| NVIDIA-SMI 460.32.03    Driver Version: 460.32.03    CUDA Version: 11.2     |\n",
            "|-------------------------------+----------------------+----------------------+\n",
            "| GPU  Name        Persistence-M| Bus-Id        Disp.A | Volatile Uncorr. ECC |\n",
            "| Fan  Temp  Perf  Pwr:Usage/Cap|         Memory-Usage | GPU-Util  Compute M. |\n",
            "|                               |                      |               MIG M. |\n",
            "|===============================+======================+======================|\n",
            "|   0  Tesla T4            Off  | 00000000:00:04.0 Off |                    0 |\n",
            "| N/A   44C    P8     9W /  70W |      0MiB / 15109MiB |      0%      Default |\n",
            "|                               |                      |                  N/A |\n",
            "+-------------------------------+----------------------+----------------------+\n",
            "                                                                               \n",
            "+-----------------------------------------------------------------------------+\n",
            "| Processes:                                                                  |\n",
            "|  GPU   GI   CI        PID   Type   Process name                  GPU Memory |\n",
            "|        ID   ID                                                   Usage      |\n",
            "|=============================================================================|\n",
            "|  No running processes found                                                 |\n",
            "+-----------------------------------------------------------------------------+\n"
          ]
        }
      ]
    },
    {
      "cell_type": "code",
      "source": [
        "!git clone https://github.com/wenet-e2e/wenet.git"
      ],
      "metadata": {
        "colab": {
          "base_uri": "https://localhost:8080/"
        },
        "id": "orsHjLciHi5e",
        "outputId": "c88cca2b-737c-4d58-9cb7-48d859dfb408"
      },
      "execution_count": 2,
      "outputs": [
        {
          "output_type": "stream",
          "name": "stdout",
          "text": [
            "Cloning into 'wenet'...\n",
            "remote: Enumerating objects: 8033, done.\u001b[K\n",
            "remote: Counting objects: 100% (382/382), done.\u001b[K\n",
            "remote: Compressing objects: 100% (232/232), done.\u001b[K\n",
            "remote: Total 8033 (delta 163), reused 300 (delta 131), pack-reused 7651\u001b[K\n",
            "Receiving objects: 100% (8033/8033), 16.49 MiB | 17.39 MiB/s, done.\n",
            "Resolving deltas: 100% (4461/4461), done.\n"
          ]
        }
      ]
    },
    {
      "cell_type": "code",
      "source": [
        "!wget -c https://repo.anaconda.com/miniconda/Miniconda3-py37_4.10.3-Linux-x86_64.sh"
      ],
      "metadata": {
        "colab": {
          "base_uri": "https://localhost:8080/"
        },
        "id": "IplS7sNdJLNj",
        "outputId": "50fff85c-e365-4f1f-b881-4961352cf13c"
      },
      "execution_count": 3,
      "outputs": [
        {
          "output_type": "stream",
          "name": "stdout",
          "text": [
            "--2022-05-23 07:07:24--  https://repo.anaconda.com/miniconda/Miniconda3-py37_4.10.3-Linux-x86_64.sh\n",
            "Resolving repo.anaconda.com (repo.anaconda.com)... 104.16.131.3, 104.16.130.3, 2606:4700::6810:8203, ...\n",
            "Connecting to repo.anaconda.com (repo.anaconda.com)|104.16.131.3|:443... connected.\n",
            "HTTP request sent, awaiting response... 200 OK\n",
            "Length: 89026327 (85M) [application/x-sh]\n",
            "Saving to: ‘Miniconda3-py37_4.10.3-Linux-x86_64.sh’\n",
            "\n",
            "Miniconda3-py37_4.1 100%[===================>]  84.90M  16.1MB/s    in 5.8s    \n",
            "\n",
            "2022-05-23 07:07:30 (14.7 MB/s) - ‘Miniconda3-py37_4.10.3-Linux-x86_64.sh’ saved [89026327/89026327]\n",
            "\n"
          ]
        }
      ]
    },
    {
      "cell_type": "code",
      "source": [
        "!ls"
      ],
      "metadata": {
        "colab": {
          "base_uri": "https://localhost:8080/"
        },
        "id": "h9gkuV-qJVPI",
        "outputId": "1a97442e-444e-4520-d84b-0ab0fac4d552"
      },
      "execution_count": 4,
      "outputs": [
        {
          "output_type": "stream",
          "name": "stdout",
          "text": [
            "Miniconda3-py37_4.10.3-Linux-x86_64.sh\tsample_data  wenet\n"
          ]
        }
      ]
    },
    {
      "cell_type": "code",
      "source": [
        "!chmod +x Miniconda3-py37_4.10.3-Linux-x86_64.sh"
      ],
      "metadata": {
        "id": "0D2dquWrJdZm"
      },
      "execution_count": 5,
      "outputs": []
    },
    {
      "cell_type": "code",
      "source": [
        "%env PYTHONPATH=\n",
        "!./Miniconda3-py37_4.10.3-Linux-x86_64.sh -b -f -p /usr/local"
      ],
      "metadata": {
        "colab": {
          "base_uri": "https://localhost:8080/"
        },
        "id": "PTjtkmMnJzrf",
        "outputId": "1578fc10-71cb-4a67-8513-12dd83e14fe8"
      },
      "execution_count": 6,
      "outputs": [
        {
          "output_type": "stream",
          "name": "stdout",
          "text": [
            "env: PYTHONPATH=\n",
            "PREFIX=/usr/local\n",
            "Unpacking payload ...\n",
            "Collecting package metadata (current_repodata.json): - \b\b\\ \b\bdone\n",
            "Solving environment: / \b\b- \b\bdone\n",
            "\n",
            "## Package Plan ##\n",
            "\n",
            "  environment location: /usr/local\n",
            "\n",
            "  added / updated specs:\n",
            "    - _libgcc_mutex==0.1=main\n",
            "    - _openmp_mutex==4.5=1_gnu\n",
            "    - brotlipy==0.7.0=py37h27cfd23_1003\n",
            "    - ca-certificates==2021.7.5=h06a4308_1\n",
            "    - certifi==2021.5.30=py37h06a4308_0\n",
            "    - cffi==1.14.6=py37h400218f_0\n",
            "    - chardet==4.0.0=py37h06a4308_1003\n",
            "    - conda-package-handling==1.7.3=py37h27cfd23_1\n",
            "    - conda==4.10.3=py37h06a4308_0\n",
            "    - cryptography==3.4.7=py37hd23ed53_0\n",
            "    - idna==2.10=pyhd3eb1b0_0\n",
            "    - ld_impl_linux-64==2.35.1=h7274673_9\n",
            "    - libffi==3.3=he6710b0_2\n",
            "    - libgcc-ng==9.3.0=h5101ec6_17\n",
            "    - libgomp==9.3.0=h5101ec6_17\n",
            "    - libstdcxx-ng==9.3.0=hd4cf53a_17\n",
            "    - ncurses==6.2=he6710b0_1\n",
            "    - openssl==1.1.1k=h27cfd23_0\n",
            "    - pip==21.1.3=py37h06a4308_0\n",
            "    - pycosat==0.6.3=py37h27cfd23_0\n",
            "    - pycparser==2.20=py_2\n",
            "    - pyopenssl==20.0.1=pyhd3eb1b0_1\n",
            "    - pysocks==1.7.1=py37_1\n",
            "    - python==3.7.10=h12debd9_4\n",
            "    - readline==8.1=h27cfd23_0\n",
            "    - requests==2.25.1=pyhd3eb1b0_0\n",
            "    - ruamel_yaml==0.15.100=py37h27cfd23_0\n",
            "    - setuptools==52.0.0=py37h06a4308_0\n",
            "    - six==1.16.0=pyhd3eb1b0_0\n",
            "    - sqlite==3.36.0=hc218d9a_0\n",
            "    - tk==8.6.10=hbc83047_0\n",
            "    - tqdm==4.61.2=pyhd3eb1b0_1\n",
            "    - urllib3==1.26.6=pyhd3eb1b0_1\n",
            "    - wheel==0.36.2=pyhd3eb1b0_0\n",
            "    - xz==5.2.5=h7b6447c_0\n",
            "    - yaml==0.2.5=h7b6447c_0\n",
            "    - zlib==1.2.11=h7b6447c_3\n",
            "\n",
            "\n",
            "The following NEW packages will be INSTALLED:\n",
            "\n",
            "  _libgcc_mutex      pkgs/main/linux-64::_libgcc_mutex-0.1-main\n",
            "  _openmp_mutex      pkgs/main/linux-64::_openmp_mutex-4.5-1_gnu\n",
            "  brotlipy           pkgs/main/linux-64::brotlipy-0.7.0-py37h27cfd23_1003\n",
            "  ca-certificates    pkgs/main/linux-64::ca-certificates-2021.7.5-h06a4308_1\n",
            "  certifi            pkgs/main/linux-64::certifi-2021.5.30-py37h06a4308_0\n",
            "  cffi               pkgs/main/linux-64::cffi-1.14.6-py37h400218f_0\n",
            "  chardet            pkgs/main/linux-64::chardet-4.0.0-py37h06a4308_1003\n",
            "  conda              pkgs/main/linux-64::conda-4.10.3-py37h06a4308_0\n",
            "  conda-package-han~ pkgs/main/linux-64::conda-package-handling-1.7.3-py37h27cfd23_1\n",
            "  cryptography       pkgs/main/linux-64::cryptography-3.4.7-py37hd23ed53_0\n",
            "  idna               pkgs/main/noarch::idna-2.10-pyhd3eb1b0_0\n",
            "  ld_impl_linux-64   pkgs/main/linux-64::ld_impl_linux-64-2.35.1-h7274673_9\n",
            "  libffi             pkgs/main/linux-64::libffi-3.3-he6710b0_2\n",
            "  libgcc-ng          pkgs/main/linux-64::libgcc-ng-9.3.0-h5101ec6_17\n",
            "  libgomp            pkgs/main/linux-64::libgomp-9.3.0-h5101ec6_17\n",
            "  libstdcxx-ng       pkgs/main/linux-64::libstdcxx-ng-9.3.0-hd4cf53a_17\n",
            "  ncurses            pkgs/main/linux-64::ncurses-6.2-he6710b0_1\n",
            "  openssl            pkgs/main/linux-64::openssl-1.1.1k-h27cfd23_0\n",
            "  pip                pkgs/main/linux-64::pip-21.1.3-py37h06a4308_0\n",
            "  pycosat            pkgs/main/linux-64::pycosat-0.6.3-py37h27cfd23_0\n",
            "  pycparser          pkgs/main/noarch::pycparser-2.20-py_2\n",
            "  pyopenssl          pkgs/main/noarch::pyopenssl-20.0.1-pyhd3eb1b0_1\n",
            "  pysocks            pkgs/main/linux-64::pysocks-1.7.1-py37_1\n",
            "  python             pkgs/main/linux-64::python-3.7.10-h12debd9_4\n",
            "  readline           pkgs/main/linux-64::readline-8.1-h27cfd23_0\n",
            "  requests           pkgs/main/noarch::requests-2.25.1-pyhd3eb1b0_0\n",
            "  ruamel_yaml        pkgs/main/linux-64::ruamel_yaml-0.15.100-py37h27cfd23_0\n",
            "  setuptools         pkgs/main/linux-64::setuptools-52.0.0-py37h06a4308_0\n",
            "  six                pkgs/main/noarch::six-1.16.0-pyhd3eb1b0_0\n",
            "  sqlite             pkgs/main/linux-64::sqlite-3.36.0-hc218d9a_0\n",
            "  tk                 pkgs/main/linux-64::tk-8.6.10-hbc83047_0\n",
            "  tqdm               pkgs/main/noarch::tqdm-4.61.2-pyhd3eb1b0_1\n",
            "  urllib3            pkgs/main/noarch::urllib3-1.26.6-pyhd3eb1b0_1\n",
            "  wheel              pkgs/main/noarch::wheel-0.36.2-pyhd3eb1b0_0\n",
            "  xz                 pkgs/main/linux-64::xz-5.2.5-h7b6447c_0\n",
            "  yaml               pkgs/main/linux-64::yaml-0.2.5-h7b6447c_0\n",
            "  zlib               pkgs/main/linux-64::zlib-1.2.11-h7b6447c_3\n",
            "\n",
            "\n",
            "Preparing transaction: | \b\b/ \b\b- \b\bdone\n",
            "Executing transaction: | \b\b/ \b\b- \b\b\\ \b\b| \b\b/ \b\b- \b\b\\ \b\b| \b\b/ \b\b- \b\bdone\n",
            "installation finished.\n"
          ]
        }
      ]
    },
    {
      "cell_type": "code",
      "source": [
        "!which python\n",
        "!python -V"
      ],
      "metadata": {
        "colab": {
          "base_uri": "https://localhost:8080/"
        },
        "id": "l5w24gujJ3vm",
        "outputId": "4b7c4cf0-9feb-44aa-d0e9-45e66a241a4c"
      },
      "execution_count": 7,
      "outputs": [
        {
          "output_type": "stream",
          "name": "stdout",
          "text": [
            "/usr/local/bin/python\n",
            "Python 3.7.10\n"
          ]
        }
      ]
    },
    {
      "cell_type": "code",
      "source": [
        "import sys\n",
        "_ = (sys.path.append(\"/usr/local/lib/python3.7/site-packages\"))"
      ],
      "metadata": {
        "id": "nDl9w_bfJ-Sg"
      },
      "execution_count": 8,
      "outputs": []
    },
    {
      "cell_type": "code",
      "source": [
        "!conda env list"
      ],
      "metadata": {
        "colab": {
          "base_uri": "https://localhost:8080/"
        },
        "id": "42GrZGKPKPBI",
        "outputId": "8c9f4c2e-45af-4612-a400-ab3cb8221314"
      },
      "execution_count": 9,
      "outputs": [
        {
          "output_type": "stream",
          "name": "stdout",
          "text": [
            "# conda environments:\n",
            "#\n",
            "base                  *  /usr/local\n",
            "\n"
          ]
        }
      ]
    },
    {
      "cell_type": "code",
      "source": [
        "!conda install --channel defaults conda python=3.8 --yes"
      ],
      "metadata": {
        "colab": {
          "base_uri": "https://localhost:8080/"
        },
        "id": "JPsuyF1lKSRn",
        "outputId": "924ac351-8b3c-454b-ddb3-883460e2df1a"
      },
      "execution_count": 10,
      "outputs": [
        {
          "output_type": "stream",
          "name": "stdout",
          "text": [
            "Collecting package metadata (current_repodata.json): - \b\b\\ \b\b| \b\b/ \b\b- \b\b\\ \b\b| \b\b/ \b\b- \b\b\\ \b\b| \b\b/ \b\b- \b\b\\ \b\b| \b\bdone\n",
            "Solving environment: - \b\b\\ \b\b| \b\b/ \b\b- \b\bdone\n",
            "\n",
            "## Package Plan ##\n",
            "\n",
            "  environment location: /usr/local\n",
            "\n",
            "  added / updated specs:\n",
            "    - conda\n",
            "    - python=3.8\n",
            "\n",
            "\n",
            "The following packages will be downloaded:\n",
            "\n",
            "    package                    |            build\n",
            "    ---------------------------|-----------------\n",
            "    brotlipy-0.7.0             |py38h27cfd23_1003         323 KB\n",
            "    ca-certificates-2022.4.26  |       h06a4308_0         124 KB\n",
            "    certifi-2022.5.18.1        |   py38h06a4308_0         147 KB\n",
            "    cffi-1.15.0                |   py38hd667e15_1         224 KB\n",
            "    chardet-4.0.0              |py38h06a4308_1003         194 KB\n",
            "    conda-4.12.0               |   py38h06a4308_0        14.5 MB\n",
            "    conda-package-handling-1.8.1|   py38h7f8727e_0         885 KB\n",
            "    cryptography-37.0.1        |   py38h9ce1e76_0         1.3 MB\n",
            "    ncurses-6.3                |       h7f8727e_2         782 KB\n",
            "    openssl-1.1.1o             |       h7f8727e_0         2.5 MB\n",
            "    pip-21.2.4                 |   py38h06a4308_0         1.8 MB\n",
            "    pycosat-0.6.3              |   py38h7b6447c_1          82 KB\n",
            "    pysocks-1.7.1              |   py38h06a4308_0          31 KB\n",
            "    python-3.8.13              |       h12debd9_0        18.8 MB\n",
            "    ruamel_yaml-0.15.100       |   py38h27cfd23_0         258 KB\n",
            "    setuptools-61.2.0          |   py38h06a4308_0        1012 KB\n",
            "    sqlite-3.38.2              |       hc218d9a_0         1.0 MB\n",
            "    tk-8.6.11                  |       h1ccaba5_0         3.0 MB\n",
            "    ------------------------------------------------------------\n",
            "                                           Total:        46.9 MB\n",
            "\n",
            "The following packages will be UPDATED:\n",
            "\n",
            "  ca-certificates                       2021.7.5-h06a4308_1 --> 2022.4.26-h06a4308_0\n",
            "  certifi                          2021.5.30-py37h06a4308_0 --> 2022.5.18.1-py38h06a4308_0\n",
            "  cffi                                1.14.6-py37h400218f_0 --> 1.15.0-py38hd667e15_1\n",
            "  conda                               4.10.3-py37h06a4308_0 --> 4.12.0-py38h06a4308_0\n",
            "  conda-package-han~                   1.7.3-py37h27cfd23_1 --> 1.8.1-py38h7f8727e_0\n",
            "  cryptography                         3.4.7-py37hd23ed53_0 --> 37.0.1-py38h9ce1e76_0\n",
            "  ncurses                                    6.2-he6710b0_1 --> 6.3-h7f8727e_2\n",
            "  openssl                                 1.1.1k-h27cfd23_0 --> 1.1.1o-h7f8727e_0\n",
            "  pip                                 21.1.3-py37h06a4308_0 --> 21.2.4-py38h06a4308_0\n",
            "  pycosat                              0.6.3-py37h27cfd23_0 --> 0.6.3-py38h7b6447c_1\n",
            "  python                                  3.7.10-h12debd9_4 --> 3.8.13-h12debd9_0\n",
            "  setuptools                          52.0.0-py37h06a4308_0 --> 61.2.0-py38h06a4308_0\n",
            "  sqlite                                  3.36.0-hc218d9a_0 --> 3.38.2-hc218d9a_0\n",
            "  tk                                      8.6.10-hbc83047_0 --> 8.6.11-h1ccaba5_0\n",
            "\n",
            "The following packages will be DOWNGRADED:\n",
            "\n",
            "  brotlipy                          0.7.0-py37h27cfd23_1003 --> 0.7.0-py38h27cfd23_1003\n",
            "  chardet                           4.0.0-py37h06a4308_1003 --> 4.0.0-py38h06a4308_1003\n",
            "  pysocks                                      1.7.1-py37_1 --> 1.7.1-py38h06a4308_0\n",
            "  ruamel_yaml                       0.15.100-py37h27cfd23_0 --> 0.15.100-py38h27cfd23_0\n",
            "\n",
            "\n",
            "\n",
            "Downloading and Extracting Packages\n",
            "ruamel_yaml-0.15.100 | 258 KB    | : 100% 1.0/1 [00:00<00:00, 13.23it/s]\n",
            "tk-8.6.11            | 3.0 MB    | : 100% 1.0/1 [00:00<00:00,  1.15it/s]               \n",
            "brotlipy-0.7.0       | 323 KB    | : 100% 1.0/1 [00:00<00:00, 21.11it/s]\n",
            "pysocks-1.7.1        | 31 KB     | : 100% 1.0/1 [00:00<00:00, 30.68it/s]\n",
            "conda-package-handli | 885 KB    | : 100% 1.0/1 [00:00<00:00, 17.77it/s]\n",
            "pip-21.2.4           | 1.8 MB    | : 100% 1.0/1 [00:00<00:00,  7.37it/s]\n",
            "cffi-1.15.0          | 224 KB    | : 100% 1.0/1 [00:00<00:00, 17.84it/s]\n",
            "ncurses-6.3          | 782 KB    | : 100% 1.0/1 [00:00<00:00,  4.99it/s]\n",
            "chardet-4.0.0        | 194 KB    | : 100% 1.0/1 [00:00<00:00, 22.66it/s]\n",
            "setuptools-61.2.0    | 1012 KB   | : 100% 1.0/1 [00:00<00:00,  7.62it/s]\n",
            "cryptography-37.0.1  | 1.3 MB    | : 100% 1.0/1 [00:00<00:00,  9.88it/s]\n",
            "conda-4.12.0         | 14.5 MB   | : 100% 1.0/1 [00:00<00:00,  1.93it/s]               \n",
            "python-3.8.13        | 18.8 MB   | : 100% 1.0/1 [00:00<00:00,  1.61it/s]               \n",
            "ca-certificates-2022 | 124 KB    | : 100% 1.0/1 [00:00<00:00, 22.31it/s]\n",
            "sqlite-3.38.2        | 1.0 MB    | : 100% 1.0/1 [00:00<00:00, 15.61it/s]\n",
            "openssl-1.1.1o       | 2.5 MB    | : 100% 1.0/1 [00:00<00:00,  9.49it/s]\n",
            "certifi-2022.5.18.1  | 147 KB    | : 100% 1.0/1 [00:00<00:00, 21.99it/s]\n",
            "pycosat-0.6.3        | 82 KB     | : 100% 1.0/1 [00:00<00:00, 25.32it/s]\n",
            "Preparing transaction: | \b\b/ \b\b- \b\bdone\n",
            "Verifying transaction: | \b\b/ \b\b- \b\b\\ \b\b| \b\b/ \b\b- \b\b\\ \b\b| \b\bdone\n",
            "Executing transaction: - \b\b\\ \b\b| \b\b/ \b\b- \b\b\\ \b\b| \b\b/ \b\b- \b\b\\ \b\b| \b\b/ \b\b- \b\b\\ \b\b| \b\b/ \b\b- \b\b\\ \b\bdone\n"
          ]
        }
      ]
    },
    {
      "cell_type": "code",
      "source": [
        "!python -V"
      ],
      "metadata": {
        "colab": {
          "base_uri": "https://localhost:8080/"
        },
        "id": "geHhRxPuKWlu",
        "outputId": "4489a712-658a-41fd-b7aa-0a626938bde0"
      },
      "execution_count": 11,
      "outputs": [
        {
          "output_type": "stream",
          "name": "stdout",
          "text": [
            "Python 3.8.13\n"
          ]
        }
      ]
    },
    {
      "cell_type": "code",
      "source": [
        "!conda update --channel defaults --all --yes"
      ],
      "metadata": {
        "colab": {
          "base_uri": "https://localhost:8080/"
        },
        "id": "EXTwcSUVKd16",
        "outputId": "e21cf215-e2b7-43a8-e505-745d4d28a59f"
      },
      "execution_count": 12,
      "outputs": [
        {
          "output_type": "stream",
          "name": "stdout",
          "text": [
            "Collecting package metadata (current_repodata.json): - \b\b\\ \b\b| \b\b/ \b\bdone\n",
            "Solving environment: \\ \b\b| \b\bdone\n",
            "\n",
            "## Package Plan ##\n",
            "\n",
            "  environment location: /usr/local\n",
            "\n",
            "\n",
            "The following packages will be downloaded:\n",
            "\n",
            "    package                    |            build\n",
            "    ---------------------------|-----------------\n",
            "    _openmp_mutex-5.1          |            1_gnu          21 KB\n",
            "    charset-normalizer-2.0.4   |     pyhd3eb1b0_0          35 KB\n",
            "    idna-3.3                   |     pyhd3eb1b0_0          49 KB\n",
            "    ld_impl_linux-64-2.38      |       h1181459_1         654 KB\n",
            "    libgcc-ng-11.2.0           |       h1234567_0         5.3 MB\n",
            "    libgomp-11.2.0             |       h1234567_0         473 KB\n",
            "    libstdcxx-ng-11.2.0        |       h1234567_0         4.7 MB\n",
            "    pycparser-2.21             |     pyhd3eb1b0_0          94 KB\n",
            "    pyopenssl-22.0.0           |     pyhd3eb1b0_0          50 KB\n",
            "    readline-8.1.2             |       h7f8727e_1         354 KB\n",
            "    requests-2.27.1            |     pyhd3eb1b0_0          54 KB\n",
            "    sqlite-3.38.3              |       hc218d9a_0         1.0 MB\n",
            "    tk-8.6.11                  |       h1ccaba5_1         3.0 MB\n",
            "    tqdm-4.64.0                |   py38h06a4308_0         126 KB\n",
            "    urllib3-1.26.9             |   py38h06a4308_0         180 KB\n",
            "    wheel-0.37.1               |     pyhd3eb1b0_0          33 KB\n",
            "    xz-5.2.5                   |       h7f8727e_1         339 KB\n",
            "    zlib-1.2.12                |       h7f8727e_2         106 KB\n",
            "    ------------------------------------------------------------\n",
            "                                           Total:        16.6 MB\n",
            "\n",
            "The following NEW packages will be INSTALLED:\n",
            "\n",
            "  charset-normalizer pkgs/main/noarch::charset-normalizer-2.0.4-pyhd3eb1b0_0\n",
            "\n",
            "The following packages will be REMOVED:\n",
            "\n",
            "  chardet-4.0.0-py38h06a4308_1003\n",
            "  six-1.16.0-pyhd3eb1b0_0\n",
            "\n",
            "The following packages will be UPDATED:\n",
            "\n",
            "  _openmp_mutex                                   4.5-1_gnu --> 5.1-1_gnu\n",
            "  idna                                    2.10-pyhd3eb1b0_0 --> 3.3-pyhd3eb1b0_0\n",
            "  ld_impl_linux-64                        2.35.1-h7274673_9 --> 2.38-h1181459_1\n",
            "  libgcc-ng                               9.3.0-h5101ec6_17 --> 11.2.0-h1234567_0\n",
            "  libgomp                                 9.3.0-h5101ec6_17 --> 11.2.0-h1234567_0\n",
            "  libstdcxx-ng                            9.3.0-hd4cf53a_17 --> 11.2.0-h1234567_0\n",
            "  pycparser                                       2.20-py_2 --> 2.21-pyhd3eb1b0_0\n",
            "  pyopenssl                             20.0.1-pyhd3eb1b0_1 --> 22.0.0-pyhd3eb1b0_0\n",
            "  readline                                   8.1-h27cfd23_0 --> 8.1.2-h7f8727e_1\n",
            "  requests                              2.25.1-pyhd3eb1b0_0 --> 2.27.1-pyhd3eb1b0_0\n",
            "  sqlite                                  3.38.2-hc218d9a_0 --> 3.38.3-hc218d9a_0\n",
            "  tk                                      8.6.11-h1ccaba5_0 --> 8.6.11-h1ccaba5_1\n",
            "  tqdm               pkgs/main/noarch::tqdm-4.61.2-pyhd3eb~ --> pkgs/main/linux-64::tqdm-4.64.0-py38h06a4308_0\n",
            "  urllib3            pkgs/main/noarch::urllib3-1.26.6-pyhd~ --> pkgs/main/linux-64::urllib3-1.26.9-py38h06a4308_0\n",
            "  wheel                                 0.36.2-pyhd3eb1b0_0 --> 0.37.1-pyhd3eb1b0_0\n",
            "  xz                                       5.2.5-h7b6447c_0 --> 5.2.5-h7f8727e_1\n",
            "  zlib                                    1.2.11-h7b6447c_3 --> 1.2.12-h7f8727e_2\n",
            "\n",
            "\n",
            "\n",
            "Downloading and Extracting Packages\n",
            "ld_impl_linux-64-2.3 | 654 KB    | : 100% 1.0/1 [00:00<00:00, 12.20it/s]\n",
            "tqdm-4.64.0          | 126 KB    | : 100% 1.0/1 [00:00<00:00,  3.28it/s]                \n",
            "libgcc-ng-11.2.0     | 5.3 MB    | : 100% 1.0/1 [00:00<00:00,  6.68it/s]\n",
            "libstdcxx-ng-11.2.0  | 4.7 MB    | : 100% 1.0/1 [00:00<00:00,  6.30it/s]\n",
            "wheel-0.37.1         | 33 KB     | : 100% 1.0/1 [00:00<00:00, 23.90it/s]\n",
            "requests-2.27.1      | 54 KB     | : 100% 1.0/1 [00:00<00:00, 31.44it/s]\n",
            "libgomp-11.2.0       | 473 KB    | : 100% 1.0/1 [00:00<00:00, 20.48it/s]\n",
            "idna-3.3             | 49 KB     | : 100% 1.0/1 [00:00<00:00, 28.57it/s]\n",
            "zlib-1.2.12          | 106 KB    | : 100% 1.0/1 [00:00<00:00, 26.72it/s]\n",
            "tk-8.6.11            | 3.0 MB    | : 100% 1.0/1 [00:00<00:00,  8.67it/s]\n",
            "urllib3-1.26.9       | 180 KB    | : 100% 1.0/1 [00:00<00:00, 25.50it/s]\n",
            "_openmp_mutex-5.1    | 21 KB     | : 100% 1.0/1 [00:00<00:00, 25.58it/s]\n",
            "readline-8.1.2       | 354 KB    | : 100% 1.0/1 [00:00<00:00, 23.94it/s]\n",
            "pycparser-2.21       | 94 KB     | : 100% 1.0/1 [00:00<00:00, 21.12it/s]\n",
            "charset-normalizer-2 | 35 KB     | : 100% 1.0/1 [00:00<00:00, 27.12it/s]\n",
            "sqlite-3.38.3        | 1.0 MB    | : 100% 1.0/1 [00:00<00:00, 20.15it/s]\n",
            "xz-5.2.5             | 339 KB    | : 100% 1.0/1 [00:00<00:00, 19.26it/s]\n",
            "pyopenssl-22.0.0     | 50 KB     | : 100% 1.0/1 [00:00<00:00, 28.67it/s]\n",
            "Preparing transaction: - \b\bdone\n",
            "Verifying transaction: | \b\bdone\n",
            "Executing transaction: - \b\b\\ \b\b| \b\b/ \b\b- \b\b\\ \b\b| \b\b/ \b\b- \b\b\\ \b\b| \b\bdone\n"
          ]
        }
      ]
    },
    {
      "cell_type": "code",
      "source": [
        "ls"
      ],
      "metadata": {
        "colab": {
          "base_uri": "https://localhost:8080/"
        },
        "id": "8wttWcKiKxUh",
        "outputId": "e082e8bd-9a42-4d22-c2bd-49a959e1986f"
      },
      "execution_count": 13,
      "outputs": [
        {
          "output_type": "stream",
          "name": "stdout",
          "text": [
            "\u001b[0m\u001b[01;32mMiniconda3-py37_4.10.3-Linux-x86_64.sh\u001b[0m*  \u001b[01;34msample_data\u001b[0m/  \u001b[01;34mwenet\u001b[0m/\n"
          ]
        }
      ]
    },
    {
      "cell_type": "code",
      "source": [
        "cd wenet/examples/aishell/s0/"
      ],
      "metadata": {
        "colab": {
          "base_uri": "https://localhost:8080/"
        },
        "id": "51qoIgCXK6pI",
        "outputId": "fd5bb609-d819-492a-93e0-1bf399dc231b"
      },
      "execution_count": 14,
      "outputs": [
        {
          "output_type": "stream",
          "name": "stdout",
          "text": [
            "/content/wenet/examples/aishell/s0\n"
          ]
        }
      ]
    },
    {
      "cell_type": "code",
      "source": [
        "cd ../../.."
      ],
      "metadata": {
        "colab": {
          "base_uri": "https://localhost:8080/"
        },
        "id": "8aJ25iZ1LcMY",
        "outputId": "7cdfe4cf-c397-474e-fa44-25966d11d213"
      },
      "execution_count": 15,
      "outputs": [
        {
          "output_type": "stream",
          "name": "stdout",
          "text": [
            "/content/wenet\n"
          ]
        }
      ]
    },
    {
      "cell_type": "code",
      "source": [
        "!pip install -r requirements.txt"
      ],
      "metadata": {
        "colab": {
          "base_uri": "https://localhost:8080/"
        },
        "id": "B_s_d6KNLmZi",
        "outputId": "36a48865-e4a2-424d-95bf-c8cb2fda5238"
      },
      "execution_count": 16,
      "outputs": [
        {
          "output_type": "stream",
          "name": "stdout",
          "text": [
            "Collecting Pillow\n",
            "  Downloading Pillow-9.1.1-cp38-cp38-manylinux_2_17_x86_64.manylinux2014_x86_64.whl (3.1 MB)\n",
            "\u001b[K     |████████████████████████████████| 3.1 MB 27.4 MB/s \n",
            "\u001b[?25hCollecting pyyaml>=5.1\n",
            "  Downloading PyYAML-6.0-cp38-cp38-manylinux_2_5_x86_64.manylinux1_x86_64.manylinux_2_12_x86_64.manylinux2010_x86_64.whl (701 kB)\n",
            "\u001b[K     |████████████████████████████████| 701 kB 97.8 MB/s \n",
            "\u001b[?25hCollecting sentencepiece\n",
            "  Downloading sentencepiece-0.1.96-cp38-cp38-manylinux_2_17_x86_64.manylinux2014_x86_64.whl (1.2 MB)\n",
            "\u001b[K     |████████████████████████████████| 1.2 MB 100.2 MB/s \n",
            "\u001b[?25hCollecting tensorboard\n",
            "  Downloading tensorboard-2.9.0-py3-none-any.whl (5.8 MB)\n",
            "\u001b[K     |████████████████████████████████| 5.8 MB 81.1 MB/s \n",
            "\u001b[?25hCollecting tensorboardX\n",
            "  Downloading tensorboardX-2.5-py2.py3-none-any.whl (125 kB)\n",
            "\u001b[K     |████████████████████████████████| 125 kB 85.8 MB/s \n",
            "\u001b[?25hCollecting typeguard\n",
            "  Downloading typeguard-2.13.3-py3-none-any.whl (17 kB)\n",
            "Collecting textgrid\n",
            "  Downloading TextGrid-1.5-py3-none-any.whl (10.0 kB)\n",
            "Collecting pytest\n",
            "  Downloading pytest-7.1.2-py3-none-any.whl (297 kB)\n",
            "\u001b[K     |████████████████████████████████| 297 kB 89.6 MB/s \n",
            "\u001b[?25hCollecting flake8==3.8.2\n",
            "  Downloading flake8-3.8.2-py2.py3-none-any.whl (72 kB)\n",
            "\u001b[K     |████████████████████████████████| 72 kB 1.2 MB/s \n",
            "\u001b[?25hCollecting flake8-bugbear\n",
            "  Downloading flake8_bugbear-22.4.25-py3-none-any.whl (19 kB)\n",
            "Collecting flake8-comprehensions\n",
            "  Downloading flake8_comprehensions-3.10.0-py3-none-any.whl (7.3 kB)\n",
            "Collecting flake8-executable\n",
            "  Downloading flake8_executable-2.1.1-py3-none-any.whl (35 kB)\n",
            "Collecting flake8-pyi==20.5.0\n",
            "  Downloading flake8_pyi-20.5.0-py36-none-any.whl (9.6 kB)\n",
            "Collecting mccabe\n",
            "  Downloading mccabe-0.7.0-py2.py3-none-any.whl (7.3 kB)\n",
            "Collecting pycodestyle==2.6.0\n",
            "  Downloading pycodestyle-2.6.0-py2.py3-none-any.whl (41 kB)\n",
            "\u001b[K     |████████████████████████████████| 41 kB 326 kB/s \n",
            "\u001b[?25hCollecting pyflakes==2.2.0\n",
            "  Downloading pyflakes-2.2.0-py2.py3-none-any.whl (66 kB)\n",
            "\u001b[K     |████████████████████████████████| 66 kB 6.0 MB/s \n",
            "\u001b[?25hCollecting mccabe\n",
            "  Downloading mccabe-0.6.1-py2.py3-none-any.whl (8.6 kB)\n",
            "Collecting attrs\n",
            "  Downloading attrs-21.4.0-py2.py3-none-any.whl (60 kB)\n",
            "\u001b[K     |████████████████████████████████| 60 kB 9.5 MB/s \n",
            "\u001b[?25hCollecting numpy>=1.12.0\n",
            "  Downloading numpy-1.22.4-cp38-cp38-manylinux_2_17_x86_64.manylinux2014_x86_64.whl (16.9 MB)\n",
            "\u001b[K     |████████████████████████████████| 16.9 MB 60.5 MB/s \n",
            "\u001b[?25hCollecting tensorboard-plugin-wit>=1.6.0\n",
            "  Downloading tensorboard_plugin_wit-1.8.1-py3-none-any.whl (781 kB)\n",
            "\u001b[K     |████████████████████████████████| 781 kB 104.3 MB/s \n",
            "\u001b[?25hCollecting markdown>=2.6.8\n",
            "  Downloading Markdown-3.3.7-py3-none-any.whl (97 kB)\n",
            "\u001b[K     |████████████████████████████████| 97 kB 7.9 MB/s \n",
            "\u001b[?25hCollecting grpcio>=1.24.3\n",
            "  Downloading grpcio-1.46.3-cp38-cp38-manylinux_2_17_x86_64.manylinux2014_x86_64.whl (4.4 MB)\n",
            "\u001b[K     |████████████████████████████████| 4.4 MB 67.3 MB/s \n",
            "\u001b[?25hCollecting protobuf>=3.9.2\n",
            "  Downloading protobuf-3.20.1-cp38-cp38-manylinux_2_5_x86_64.manylinux1_x86_64.whl (1.0 MB)\n",
            "\u001b[K     |████████████████████████████████| 1.0 MB 30.6 MB/s \n",
            "\u001b[?25hCollecting google-auth-oauthlib<0.5,>=0.4.1\n",
            "  Downloading google_auth_oauthlib-0.4.6-py2.py3-none-any.whl (18 kB)\n",
            "Collecting absl-py>=0.4\n",
            "  Downloading absl_py-1.0.0-py3-none-any.whl (126 kB)\n",
            "\u001b[K     |████████████████████████████████| 126 kB 97.1 MB/s \n",
            "\u001b[?25hRequirement already satisfied: wheel>=0.26 in /usr/local/lib/python3.8/site-packages (from tensorboard->-r requirements.txt (line 4)) (0.37.1)\n",
            "Collecting google-auth<3,>=1.6.3\n",
            "  Downloading google_auth-2.6.6-py2.py3-none-any.whl (156 kB)\n",
            "\u001b[K     |████████████████████████████████| 156 kB 3.1 MB/s \n",
            "\u001b[?25hRequirement already satisfied: setuptools>=41.0.0 in /usr/local/lib/python3.8/site-packages (from tensorboard->-r requirements.txt (line 4)) (61.2.0)\n",
            "Requirement already satisfied: requests<3,>=2.21.0 in /usr/local/lib/python3.8/site-packages (from tensorboard->-r requirements.txt (line 4)) (2.27.1)\n",
            "Collecting werkzeug>=1.0.1\n",
            "  Downloading Werkzeug-2.1.2-py3-none-any.whl (224 kB)\n",
            "\u001b[K     |████████████████████████████████| 224 kB 16.8 MB/s \n",
            "\u001b[?25hCollecting tensorboard-data-server<0.7.0,>=0.6.0\n",
            "  Downloading tensorboard_data_server-0.6.1-py3-none-manylinux2010_x86_64.whl (4.9 MB)\n",
            "\u001b[K     |████████████████████████████████| 4.9 MB 85.5 MB/s \n",
            "\u001b[?25hCollecting six\n",
            "  Downloading six-1.16.0-py2.py3-none-any.whl (11 kB)\n",
            "Collecting pluggy<2.0,>=0.12\n",
            "  Downloading pluggy-1.0.0-py2.py3-none-any.whl (13 kB)\n",
            "Collecting iniconfig\n",
            "  Downloading iniconfig-1.1.1-py2.py3-none-any.whl (5.0 kB)\n",
            "Collecting packaging\n",
            "  Downloading packaging-21.3-py3-none-any.whl (40 kB)\n",
            "\u001b[K     |████████████████████████████████| 40 kB 3.5 MB/s \n",
            "\u001b[?25hCollecting tomli>=1.0.0\n",
            "  Downloading tomli-2.0.1-py3-none-any.whl (12 kB)\n",
            "Collecting py>=1.8.2\n",
            "  Downloading py-1.11.0-py2.py3-none-any.whl (98 kB)\n",
            "\u001b[K     |████████████████████████████████| 98 kB 10.1 MB/s \n",
            "\u001b[?25hCollecting pyasn1-modules>=0.2.1\n",
            "  Downloading pyasn1_modules-0.2.8-py2.py3-none-any.whl (155 kB)\n",
            "\u001b[K     |████████████████████████████████| 155 kB 90.0 MB/s \n",
            "\u001b[?25hCollecting cachetools<6.0,>=2.0.0\n",
            "  Downloading cachetools-5.1.0-py3-none-any.whl (9.2 kB)\n",
            "Collecting rsa<5,>=3.1.4\n",
            "  Downloading rsa-4.8-py3-none-any.whl (39 kB)\n",
            "Collecting requests-oauthlib>=0.7.0\n",
            "  Downloading requests_oauthlib-1.3.1-py2.py3-none-any.whl (23 kB)\n",
            "Collecting importlib-metadata>=4.4\n",
            "  Downloading importlib_metadata-4.11.4-py3-none-any.whl (18 kB)\n",
            "Collecting zipp>=0.5\n",
            "  Downloading zipp-3.8.0-py3-none-any.whl (5.4 kB)\n",
            "Collecting pyasn1<0.5.0,>=0.4.6\n",
            "  Downloading pyasn1-0.4.8-py2.py3-none-any.whl (77 kB)\n",
            "\u001b[K     |████████████████████████████████| 77 kB 7.1 MB/s \n",
            "\u001b[?25hRequirement already satisfied: charset-normalizer~=2.0.0 in /usr/local/lib/python3.8/site-packages (from requests<3,>=2.21.0->tensorboard->-r requirements.txt (line 4)) (2.0.4)\n",
            "Requirement already satisfied: urllib3<1.27,>=1.21.1 in /usr/local/lib/python3.8/site-packages (from requests<3,>=2.21.0->tensorboard->-r requirements.txt (line 4)) (1.26.9)\n",
            "Requirement already satisfied: idna<4,>=2.5 in /usr/local/lib/python3.8/site-packages (from requests<3,>=2.21.0->tensorboard->-r requirements.txt (line 4)) (3.3)\n",
            "Requirement already satisfied: certifi>=2017.4.17 in /usr/local/lib/python3.8/site-packages (from requests<3,>=2.21.0->tensorboard->-r requirements.txt (line 4)) (2022.5.18.1)\n",
            "Collecting oauthlib>=3.0.0\n",
            "  Downloading oauthlib-3.2.0-py3-none-any.whl (151 kB)\n",
            "\u001b[K     |████████████████████████████████| 151 kB 113.0 MB/s \n",
            "\u001b[?25hCollecting pyparsing!=3.0.5,>=2.0.2\n",
            "  Downloading pyparsing-3.0.9-py3-none-any.whl (98 kB)\n",
            "\u001b[K     |████████████████████████████████| 98 kB 9.3 MB/s \n",
            "\u001b[?25hInstalling collected packages: pyasn1, zipp, six, rsa, pyasn1-modules, oauthlib, cachetools, requests-oauthlib, pyparsing, pyflakes, pycodestyle, mccabe, importlib-metadata, google-auth, werkzeug, tomli, tensorboard-plugin-wit, tensorboard-data-server, py, protobuf, pluggy, packaging, numpy, markdown, iniconfig, grpcio, google-auth-oauthlib, flake8, attrs, absl-py, typeguard, textgrid, tensorboardX, tensorboard, sentencepiece, pyyaml, pytest, Pillow, flake8-pyi, flake8-executable, flake8-comprehensions, flake8-bugbear\n",
            "Successfully installed Pillow-9.1.1 absl-py-1.0.0 attrs-21.4.0 cachetools-5.1.0 flake8-3.8.2 flake8-bugbear-22.4.25 flake8-comprehensions-3.10.0 flake8-executable-2.1.1 flake8-pyi-20.5.0 google-auth-2.6.6 google-auth-oauthlib-0.4.6 grpcio-1.46.3 importlib-metadata-4.11.4 iniconfig-1.1.1 markdown-3.3.7 mccabe-0.6.1 numpy-1.22.4 oauthlib-3.2.0 packaging-21.3 pluggy-1.0.0 protobuf-3.20.1 py-1.11.0 pyasn1-0.4.8 pyasn1-modules-0.2.8 pycodestyle-2.6.0 pyflakes-2.2.0 pyparsing-3.0.9 pytest-7.1.2 pyyaml-6.0 requests-oauthlib-1.3.1 rsa-4.8 sentencepiece-0.1.96 six-1.16.0 tensorboard-2.9.0 tensorboard-data-server-0.6.1 tensorboard-plugin-wit-1.8.1 tensorboardX-2.5 textgrid-1.5 tomli-2.0.1 typeguard-2.13.3 werkzeug-2.1.2 zipp-3.8.0\n",
            "\u001b[33mWARNING: Running pip as the 'root' user can result in broken permissions and conflicting behaviour with the system package manager. It is recommended to use a virtual environment instead: https://pip.pypa.io/warnings/venv\u001b[0m\n"
          ]
        }
      ]
    },
    {
      "cell_type": "code",
      "source": [
        "!conda install pytorch=1.10.0 torchvision torchaudio=0.10.0 cudatoolkit=11.1 -c pytorch -c conda-forge"
      ],
      "metadata": {
        "colab": {
          "base_uri": "https://localhost:8080/"
        },
        "id": "ifxvpVF3LyEC",
        "outputId": "0d10aeec-7332-4176-b76b-93916784ffcb"
      },
      "execution_count": 17,
      "outputs": [
        {
          "output_type": "stream",
          "name": "stdout",
          "text": [
            "Collecting package metadata (current_repodata.json): - \b\b\\ \b\b| \b\b/ \b\b- \b\b\\ \b\b| \b\b/ \b\b- \b\b\\ \b\b| \b\b/ \b\b- \b\b\\ \b\b| \b\b/ \b\b- \b\b\\ \b\b| \b\b/ \b\b- \b\b\\ \b\b| \b\b/ \b\b- \b\b\\ \b\b| \b\b/ \b\b- \b\b\\ \b\b| \b\b/ \b\b- \b\b\\ \b\b| \b\b/ \b\b- \b\b\\ \b\b| \b\b/ \b\b- \b\b\\ \b\b| \b\b/ \b\b- \b\b\\ \b\b| \b\b/ \b\b- \b\b\\ \b\b| \b\b/ \b\b- \b\b\\ \b\b| \b\b/ \b\b- \b\b\\ \b\b| \b\b/ \b\b- \b\b\\ \b\b| \b\b/ \b\b- \b\b\\ \b\b| \b\b/ \b\b- \b\b\\ \b\b| \b\b/ \b\b- \b\b\\ \b\b| \b\b/ \b\b- \b\b\\ \b\b| \b\b/ \b\b- \b\b\\ \b\b| \b\b/ \b\b- \b\b\\ \b\b| \b\bdone\n",
            "Solving environment: - \b\b\\ \b\b| \b\b/ \b\b- \b\b\\ \b\b| \b\b/ \b\b- \b\b\\ \b\b| \b\b/ \b\b- \b\b\\ \b\b| \b\b/ \b\b- \b\b\\ \b\b| \b\b/ \b\b- \b\b\\ \b\b| \b\b/ \b\b- \b\b\\ \b\b| \b\b/ \b\b- \b\b\\ \b\b| \b\b/ \b\b- \b\b\\ \b\b| \b\b/ \b\b- \b\b\\ \b\b| \b\bdone\n",
            "\n",
            "## Package Plan ##\n",
            "\n",
            "  environment location: /usr/local\n",
            "\n",
            "  added / updated specs:\n",
            "    - cudatoolkit=11.1\n",
            "    - pytorch=1.10.0\n",
            "    - torchaudio=0.10.0\n",
            "    - torchvision\n",
            "\n",
            "\n",
            "The following packages will be downloaded:\n",
            "\n",
            "    package                    |            build\n",
            "    ---------------------------|-----------------\n",
            "    blas-1.0                   |              mkl           6 KB\n",
            "    bzip2-1.0.8                |       h7f98852_4         484 KB  conda-forge\n",
            "    ca-certificates-2022.5.18.1|       ha878542_0         144 KB  conda-forge\n",
            "    certifi-2022.5.18.1        |   py38h578d9bd_0         150 KB  conda-forge\n",
            "    conda-4.12.0               |   py38h578d9bd_0         1.0 MB  conda-forge\n",
            "    cudatoolkit-11.1.1         |      ha002fc5_10        1.20 GB  conda-forge\n",
            "    ffmpeg-4.3                 |       hf484d3e_0         9.9 MB  pytorch\n",
            "    freetype-2.10.4            |       h0708190_1         890 KB  conda-forge\n",
            "    gmp-6.2.1                  |       h58526e2_0         806 KB  conda-forge\n",
            "    gnutls-3.6.13              |       h85f3911_1         2.0 MB  conda-forge\n",
            "    intel-openmp-2021.4.0      |    h06a4308_3561         4.2 MB\n",
            "    jpeg-9e                    |       h166bdaf_1         268 KB  conda-forge\n",
            "    lame-3.100                 |    h7f98852_1001         496 KB  conda-forge\n",
            "    libiconv-1.17              |       h166bdaf_0         1.4 MB  conda-forge\n",
            "    libpng-1.6.37              |       h21135ba_2         306 KB  conda-forge\n",
            "    libtiff-4.0.10             |    hc3755c2_1005         602 KB  conda-forge\n",
            "    libuv-1.43.0               |       h7f98852_0         1.0 MB  conda-forge\n",
            "    lz4-c-1.9.3                |       h9c3ff4c_1         179 KB  conda-forge\n",
            "    mkl-2021.4.0               |     h06a4308_640       142.6 MB\n",
            "    mkl-service-2.4.0          |   py38h95df7f1_0          61 KB  conda-forge\n",
            "    mkl_fft-1.3.1              |   py38h8666266_1         213 KB  conda-forge\n",
            "    mkl_random-1.2.2           |   py38h1abd341_0         364 KB  conda-forge\n",
            "    nettle-3.6                 |       he412f7d_0         6.5 MB  conda-forge\n",
            "    numpy-1.22.3               |   py38he7a7128_0          10 KB\n",
            "    numpy-base-1.22.3          |   py38hf524024_0         5.4 MB\n",
            "    olefile-0.46               |     pyh9f0ad1d_1          32 KB  conda-forge\n",
            "    openh264-2.1.1             |       h780b84a_0         1.5 MB  conda-forge\n",
            "    openssl-1.1.1o             |       h166bdaf_0         2.1 MB  conda-forge\n",
            "    pillow-6.2.1               |   py38h6b7be26_0         637 KB  conda-forge\n",
            "    python_abi-3.8             |           2_cp38           4 KB  conda-forge\n",
            "    pytorch-1.10.0             |py3.8_cuda11.1_cudnn8.0.5_0        1.53 GB  pytorch\n",
            "    pytorch-mutex-1.0          |             cuda           3 KB  pytorch\n",
            "    six-1.16.0                 |     pyh6c4a22f_0          14 KB  conda-forge\n",
            "    torchaudio-0.10.0          |       py38_cu111         4.5 MB  pytorch\n",
            "    torchvision-0.11.1         |       py38_cu111        30.4 MB  pytorch\n",
            "    typing_extensions-4.2.0    |     pyha770c72_1          27 KB  conda-forge\n",
            "    zstd-1.4.9                 |       ha95c52a_0         431 KB  conda-forge\n",
            "    ------------------------------------------------------------\n",
            "                                           Total:        2.95 GB\n",
            "\n",
            "The following NEW packages will be INSTALLED:\n",
            "\n",
            "  blas               pkgs/main/linux-64::blas-1.0-mkl\n",
            "  bzip2              conda-forge/linux-64::bzip2-1.0.8-h7f98852_4\n",
            "  cudatoolkit        conda-forge/linux-64::cudatoolkit-11.1.1-ha002fc5_10\n",
            "  ffmpeg             pytorch/linux-64::ffmpeg-4.3-hf484d3e_0\n",
            "  freetype           conda-forge/linux-64::freetype-2.10.4-h0708190_1\n",
            "  gmp                conda-forge/linux-64::gmp-6.2.1-h58526e2_0\n",
            "  gnutls             conda-forge/linux-64::gnutls-3.6.13-h85f3911_1\n",
            "  intel-openmp       pkgs/main/linux-64::intel-openmp-2021.4.0-h06a4308_3561\n",
            "  jpeg               conda-forge/linux-64::jpeg-9e-h166bdaf_1\n",
            "  lame               conda-forge/linux-64::lame-3.100-h7f98852_1001\n",
            "  libiconv           conda-forge/linux-64::libiconv-1.17-h166bdaf_0\n",
            "  libpng             conda-forge/linux-64::libpng-1.6.37-h21135ba_2\n",
            "  libtiff            conda-forge/linux-64::libtiff-4.0.10-hc3755c2_1005\n",
            "  libuv              conda-forge/linux-64::libuv-1.43.0-h7f98852_0\n",
            "  lz4-c              conda-forge/linux-64::lz4-c-1.9.3-h9c3ff4c_1\n",
            "  mkl                pkgs/main/linux-64::mkl-2021.4.0-h06a4308_640\n",
            "  mkl-service        conda-forge/linux-64::mkl-service-2.4.0-py38h95df7f1_0\n",
            "  mkl_fft            conda-forge/linux-64::mkl_fft-1.3.1-py38h8666266_1\n",
            "  mkl_random         conda-forge/linux-64::mkl_random-1.2.2-py38h1abd341_0\n",
            "  nettle             conda-forge/linux-64::nettle-3.6-he412f7d_0\n",
            "  numpy              pkgs/main/linux-64::numpy-1.22.3-py38he7a7128_0\n",
            "  numpy-base         pkgs/main/linux-64::numpy-base-1.22.3-py38hf524024_0\n",
            "  olefile            conda-forge/noarch::olefile-0.46-pyh9f0ad1d_1\n",
            "  openh264           conda-forge/linux-64::openh264-2.1.1-h780b84a_0\n",
            "  pillow             conda-forge/linux-64::pillow-6.2.1-py38h6b7be26_0\n",
            "  python_abi         conda-forge/linux-64::python_abi-3.8-2_cp38\n",
            "  pytorch            pytorch/linux-64::pytorch-1.10.0-py3.8_cuda11.1_cudnn8.0.5_0\n",
            "  pytorch-mutex      pytorch/noarch::pytorch-mutex-1.0-cuda\n",
            "  six                conda-forge/noarch::six-1.16.0-pyh6c4a22f_0\n",
            "  torchaudio         pytorch/linux-64::torchaudio-0.10.0-py38_cu111\n",
            "  torchvision        pytorch/linux-64::torchvision-0.11.1-py38_cu111\n",
            "  typing_extensions  conda-forge/noarch::typing_extensions-4.2.0-pyha770c72_1\n",
            "  zstd               conda-forge/linux-64::zstd-1.4.9-ha95c52a_0\n",
            "\n",
            "The following packages will be UPDATED:\n",
            "\n",
            "  ca-certificates    pkgs/main::ca-certificates-2022.4.26-~ --> conda-forge::ca-certificates-2022.5.18.1-ha878542_0\n",
            "\n",
            "The following packages will be SUPERSEDED by a higher-priority channel:\n",
            "\n",
            "  certifi            pkgs/main::certifi-2022.5.18.1-py38h0~ --> conda-forge::certifi-2022.5.18.1-py38h578d9bd_0\n",
            "  conda              pkgs/main::conda-4.12.0-py38h06a4308_0 --> conda-forge::conda-4.12.0-py38h578d9bd_0\n",
            "  openssl              pkgs/main::openssl-1.1.1o-h7f8727e_0 --> conda-forge::openssl-1.1.1o-h166bdaf_0\n",
            "\n",
            "\n",
            "Proceed ([y]/n)? y\n",
            "\n",
            "\n",
            "Downloading and Extracting Packages\n",
            "blas-1.0             | 6 KB      | : 100% 1.0/1 [00:00<00:00, 11.17it/s]\n",
            "mkl-2021.4.0         | 142.6 MB  | :  93% 0.9323374578397966/1 [00:00<00:00,  1.13it/s]y\n",
            "mkl-2021.4.0         | 142.6 MB  | : 100% 1.0/1 [00:03<00:00,  3.95s/it]               \n",
            "numpy-1.22.3         | 10 KB     | : 100% 1.0/1 [00:00<00:00, 17.49it/s]\n",
            "lz4-c-1.9.3          | 179 KB    | : 100% 1.0/1 [00:00<00:00, 10.05it/s]\n",
            "cudatoolkit-11.1.1   | 1.20 GB   | : 100% 1.0/1 [02:28<00:00, 148.12s/it]              \n",
            "certifi-2022.5.18.1  | 150 KB    | : 100% 1.0/1 [00:00<00:00, 10.83it/s]\n",
            "openh264-2.1.1       | 1.5 MB    | : 100% 1.0/1 [00:00<00:00,  3.82it/s]\n",
            "mkl-service-2.4.0    | 61 KB     | : 100% 1.0/1 [00:00<00:00, 27.87it/s]\n",
            "libiconv-1.17        | 1.4 MB    | : 100% 1.0/1 [00:00<00:00,  4.96it/s]\n",
            "conda-4.12.0         | 1.0 MB    | : 100% 1.0/1 [00:00<00:00,  4.19it/s]\n",
            "lame-3.100           | 496 KB    | : 100% 1.0/1 [00:00<00:00,  9.95it/s]\n",
            "libpng-1.6.37        | 306 KB    | : 100% 1.0/1 [00:00<00:00, 13.66it/s]\n",
            "mkl_fft-1.3.1        | 213 KB    | : 100% 1.0/1 [00:00<00:00, 15.12it/s]\n",
            "torchaudio-0.10.0    | 4.5 MB    | : 100% 1.0/1 [00:04<00:00,  4.31s/it]\n",
            "openssl-1.1.1o       | 2.1 MB    | : 100% 1.0/1 [00:00<00:00,  3.01it/s]\n",
            "olefile-0.46         | 32 KB     | : 100% 1.0/1 [00:00<00:00, 26.84it/s]\n",
            "python_abi-3.8       | 4 KB      | : 100% 1.0/1 [00:00<00:00, 27.88it/s]\n",
            "pytorch-mutex-1.0    | 3 KB      | : 100% 1.0/1 [00:01<00:00,  1.24s/it]\n",
            "libuv-1.43.0         | 1.0 MB    | : 100% 1.0/1 [00:00<00:00,  5.48it/s]\n",
            "freetype-2.10.4      | 890 KB    | : 100% 1.0/1 [00:00<00:00,  6.35it/s]\n",
            "pytorch-1.10.0       | 1.53 GB   | : 100% 1.0/1 [06:14<00:00, 374.19s/it]              \n",
            "numpy-base-1.22.3    | 5.4 MB    | : 100% 1.0/1 [00:00<00:00,  3.24it/s]\n",
            "jpeg-9e              | 268 KB    | : 100% 1.0/1 [00:00<00:00,  9.46it/s]\n",
            "gnutls-3.6.13        | 2.0 MB    | : 100% 1.0/1 [00:00<00:00,  2.30it/s]\n",
            "torchvision-0.11.1   | 30.4 MB   | : 100% 1.0/1 [00:09<00:00,  9.20s/it]               \n",
            "libtiff-4.0.10       | 602 KB    | : 100% 1.0/1 [00:00<00:00,  7.65it/s]\n",
            "ffmpeg-4.3           | 9.9 MB    | : 100% 1.0/1 [00:03<00:00,  3.28s/it]               \n",
            "ca-certificates-2022 | 144 KB    | : 100% 1.0/1 [00:00<00:00, 17.16it/s]\n",
            "intel-openmp-2021.4. | 4.2 MB    | : 100% 1.0/1 [00:00<00:00,  6.12it/s]\n",
            "bzip2-1.0.8          | 484 KB    | : 100% 1.0/1 [00:00<00:00,  9.22it/s]\n",
            "nettle-3.6           | 6.5 MB    | : 100% 1.0/1 [00:00<00:00,  1.16it/s]\n",
            "mkl_random-1.2.2     | 364 KB    | : 100% 1.0/1 [00:00<00:00,  9.77it/s]\n",
            "six-1.16.0           | 14 KB     | : 100% 1.0/1 [00:00<00:00, 32.71it/s]\n",
            "zstd-1.4.9           | 431 KB    | : 100% 1.0/1 [00:00<00:00, 10.70it/s]\n",
            "gmp-6.2.1            | 806 KB    | : 100% 1.0/1 [00:00<00:00,  7.00it/s]\n",
            "pillow-6.2.1         | 637 KB    | : 100% 1.0/1 [00:00<00:00,  7.73it/s]\n",
            "typing_extensions-4. | 27 KB     | : 100% 1.0/1 [00:00<00:00, 21.60it/s]\n",
            "Preparing transaction: - \b\b\\ \b\b| \b\bdone\n",
            "Verifying transaction: - \b\b\\ \b\b| \b\b/ \b\b- \b\b\\ \b\b| \b\b/ \b\b- \b\b\\ \b\b| \b\b/ \b\b- \b\b\\ \b\b| \b\bdone\n",
            "Executing transaction: - \b\b\\ \b\b| \b\b/ \b\b- \b\b\\ \b\b| \b\b/ \b\b- \b\b\\ \b\b| \b\b/ \b\b- \b\b\\ \b\b| \b\b/ \b\b- \b\b\\ \b\b| \b\b/ \b\b- \b\b\\ \b\b| \b\b/ \b\b- \b\b\\ \b\b| \b\b/ \b\b- \b\b\\ \b\b| \b\b/ \b\b- \b\b\\ \b\b| \b\b/ \b\b- \b\b\\ \b\b| \b\b/ \b\b- \b\b\\ \b\b| \b\b/ \b\b- \b\b\\ By downloading and using the CUDA Toolkit conda packages, you accept the terms and conditions of the CUDA End User License Agreement (EULA): https://docs.nvidia.com/cuda/eula/index.html\n",
            "\n",
            "\b\b| \b\b/ \b\b- \b\b\\ \b\b| \b\b/ \b\b- \b\b\\ \b\b| \b\b/ \b\bdone\n"
          ]
        }
      ]
    },
    {
      "cell_type": "code",
      "source": [
        "cd examples/aishell/s0/"
      ],
      "metadata": {
        "colab": {
          "base_uri": "https://localhost:8080/"
        },
        "id": "SYupElwCOQTB",
        "outputId": "7fdc12bd-acbf-43de-e32d-fa622730670d"
      },
      "execution_count": 18,
      "outputs": [
        {
          "output_type": "stream",
          "name": "stdout",
          "text": [
            "/content/wenet/examples/aishell/s0\n"
          ]
        }
      ]
    },
    {
      "cell_type": "code",
      "source": [
        "%%shell\n",
        "grep \"local\" run.sh"
      ],
      "metadata": {
        "colab": {
          "base_uri": "https://localhost:8080/"
        },
        "id": "kjlH_xPAOkcT",
        "outputId": "3b2803ee-68ad-4472-ca17-dbf881597b92"
      },
      "execution_count": 19,
      "outputs": [
        {
          "output_type": "stream",
          "name": "stdout",
          "text": [
            "  local/download_and_untar.sh ${data} ${data_url} data_aishell\n",
            "  local/download_and_untar.sh ${data} ${data_url} resource_aishell\n",
            "  local/aishell_data_prep.sh ${data}/data_aishell/wav \\\n",
            "  mkdir -p data/local/dict\n",
            "  cp $unit_file data/local/dict/units.txt\n",
            "    data/local/dict/lexicon.txt\n",
            "  lm=data/local/lm\n",
            "  local/aishell_train_lms.sh\n",
            "    data/local/dict data/local/tmp data/local/lang\n",
            "  tools/fst/make_tlg.sh data/local/lm data/local/lang data/lang_test || exit 1;\n"
          ]
        },
        {
          "output_type": "execute_result",
          "data": {
            "text/plain": [
              ""
            ]
          },
          "metadata": {},
          "execution_count": 19
        }
      ]
    },
    {
      "cell_type": "code",
      "source": [
        "%%shell\n",
        "bash run.sh > run.sh.log.stage.-1 2>&1"
      ],
      "metadata": {
        "colab": {
          "base_uri": "https://localhost:8080/",
          "height": 328
        },
        "id": "KVQun8kNP9ZN",
        "outputId": "87adfd8c-778f-4e55-8450-021b9eb5ac6a"
      },
      "execution_count": 21,
      "outputs": [
        {
          "output_type": "error",
          "ename": "CalledProcessError",
          "evalue": "ignored",
          "traceback": [
            "\u001b[0;31m---------------------------------------------------------------------------\u001b[0m",
            "\u001b[0;31mCalledProcessError\u001b[0m                        Traceback (most recent call last)",
            "\u001b[0;32m<ipython-input-21-97a9b298ceaa>\u001b[0m in \u001b[0;36m<module>\u001b[0;34m()\u001b[0m\n\u001b[0;32m----> 1\u001b[0;31m \u001b[0mget_ipython\u001b[0m\u001b[0;34m(\u001b[0m\u001b[0;34m)\u001b[0m\u001b[0;34m.\u001b[0m\u001b[0mrun_cell_magic\u001b[0m\u001b[0;34m(\u001b[0m\u001b[0;34m'shell'\u001b[0m\u001b[0;34m,\u001b[0m \u001b[0;34m''\u001b[0m\u001b[0;34m,\u001b[0m \u001b[0;34m'bash run.sh > run.sh.log.stage.-1 2>&1'\u001b[0m\u001b[0;34m)\u001b[0m\u001b[0;34m\u001b[0m\u001b[0;34m\u001b[0m\u001b[0m\n\u001b[0m",
            "\u001b[0;32m/usr/local/lib/python3.7/dist-packages/IPython/core/interactiveshell.py\u001b[0m in \u001b[0;36mrun_cell_magic\u001b[0;34m(self, magic_name, line, cell)\u001b[0m\n\u001b[1;32m   2115\u001b[0m             \u001b[0mmagic_arg_s\u001b[0m \u001b[0;34m=\u001b[0m \u001b[0mself\u001b[0m\u001b[0;34m.\u001b[0m\u001b[0mvar_expand\u001b[0m\u001b[0;34m(\u001b[0m\u001b[0mline\u001b[0m\u001b[0;34m,\u001b[0m \u001b[0mstack_depth\u001b[0m\u001b[0;34m)\u001b[0m\u001b[0;34m\u001b[0m\u001b[0;34m\u001b[0m\u001b[0m\n\u001b[1;32m   2116\u001b[0m             \u001b[0;32mwith\u001b[0m \u001b[0mself\u001b[0m\u001b[0;34m.\u001b[0m\u001b[0mbuiltin_trap\u001b[0m\u001b[0;34m:\u001b[0m\u001b[0;34m\u001b[0m\u001b[0;34m\u001b[0m\u001b[0m\n\u001b[0;32m-> 2117\u001b[0;31m                 \u001b[0mresult\u001b[0m \u001b[0;34m=\u001b[0m \u001b[0mfn\u001b[0m\u001b[0;34m(\u001b[0m\u001b[0mmagic_arg_s\u001b[0m\u001b[0;34m,\u001b[0m \u001b[0mcell\u001b[0m\u001b[0;34m)\u001b[0m\u001b[0;34m\u001b[0m\u001b[0;34m\u001b[0m\u001b[0m\n\u001b[0m\u001b[1;32m   2118\u001b[0m             \u001b[0;32mreturn\u001b[0m \u001b[0mresult\u001b[0m\u001b[0;34m\u001b[0m\u001b[0;34m\u001b[0m\u001b[0m\n\u001b[1;32m   2119\u001b[0m \u001b[0;34m\u001b[0m\u001b[0m\n",
            "\u001b[0;32m/usr/local/lib/python3.7/dist-packages/google/colab/_system_commands.py\u001b[0m in \u001b[0;36m_shell_cell_magic\u001b[0;34m(args, cmd)\u001b[0m\n\u001b[1;32m    111\u001b[0m   \u001b[0mresult\u001b[0m \u001b[0;34m=\u001b[0m \u001b[0m_run_command\u001b[0m\u001b[0;34m(\u001b[0m\u001b[0mcmd\u001b[0m\u001b[0;34m,\u001b[0m \u001b[0mclear_streamed_output\u001b[0m\u001b[0;34m=\u001b[0m\u001b[0;32mFalse\u001b[0m\u001b[0;34m)\u001b[0m\u001b[0;34m\u001b[0m\u001b[0;34m\u001b[0m\u001b[0m\n\u001b[1;32m    112\u001b[0m   \u001b[0;32mif\u001b[0m \u001b[0;32mnot\u001b[0m \u001b[0mparsed_args\u001b[0m\u001b[0;34m.\u001b[0m\u001b[0mignore_errors\u001b[0m\u001b[0;34m:\u001b[0m\u001b[0;34m\u001b[0m\u001b[0;34m\u001b[0m\u001b[0m\n\u001b[0;32m--> 113\u001b[0;31m     \u001b[0mresult\u001b[0m\u001b[0;34m.\u001b[0m\u001b[0mcheck_returncode\u001b[0m\u001b[0;34m(\u001b[0m\u001b[0;34m)\u001b[0m\u001b[0;34m\u001b[0m\u001b[0;34m\u001b[0m\u001b[0m\n\u001b[0m\u001b[1;32m    114\u001b[0m   \u001b[0;32mreturn\u001b[0m \u001b[0mresult\u001b[0m\u001b[0;34m\u001b[0m\u001b[0;34m\u001b[0m\u001b[0m\n\u001b[1;32m    115\u001b[0m \u001b[0;34m\u001b[0m\u001b[0m\n",
            "\u001b[0;32m/usr/local/lib/python3.7/dist-packages/google/colab/_system_commands.py\u001b[0m in \u001b[0;36mcheck_returncode\u001b[0;34m(self)\u001b[0m\n\u001b[1;32m    137\u001b[0m     \u001b[0;32mif\u001b[0m \u001b[0mself\u001b[0m\u001b[0;34m.\u001b[0m\u001b[0mreturncode\u001b[0m\u001b[0;34m:\u001b[0m\u001b[0;34m\u001b[0m\u001b[0;34m\u001b[0m\u001b[0m\n\u001b[1;32m    138\u001b[0m       raise subprocess.CalledProcessError(\n\u001b[0;32m--> 139\u001b[0;31m           returncode=self.returncode, cmd=self.args, output=self.output)\n\u001b[0m\u001b[1;32m    140\u001b[0m \u001b[0;34m\u001b[0m\u001b[0m\n\u001b[1;32m    141\u001b[0m   \u001b[0;32mdef\u001b[0m \u001b[0m_repr_pretty_\u001b[0m\u001b[0;34m(\u001b[0m\u001b[0mself\u001b[0m\u001b[0;34m,\u001b[0m \u001b[0mp\u001b[0m\u001b[0;34m,\u001b[0m \u001b[0mcycle\u001b[0m\u001b[0;34m)\u001b[0m\u001b[0;34m:\u001b[0m  \u001b[0;31m# pylint:disable=unused-argument\u001b[0m\u001b[0;34m\u001b[0m\u001b[0;34m\u001b[0m\u001b[0m\n",
            "\u001b[0;31mCalledProcessError\u001b[0m: Command 'bash run.sh > run.sh.log.stage.-1 2>&1' died with <Signals.SIGINT: 2>."
          ]
        }
      ]
    },
    {
      "cell_type": "code",
      "source": [
        "cd .."
      ],
      "metadata": {
        "colab": {
          "base_uri": "https://localhost:8080/"
        },
        "id": "np_GrQQHWorh",
        "outputId": "1be8bdaf-8428-4afd-f266-4bd18d97dfe9"
      },
      "execution_count": null,
      "outputs": [
        {
          "output_type": "stream",
          "name": "stdout",
          "text": [
            "/content/gdrive/MyDrive/Colab Notebooks/wenet\n"
          ]
        }
      ]
    },
    {
      "cell_type": "code",
      "source": [
        "%%shell\n",
        "chmod +x ./make_raw_list.py"
      ],
      "metadata": {
        "colab": {
          "base_uri": "https://localhost:8080/"
        },
        "id": "rsl3xocAXgoY",
        "outputId": "cb1d9918-7525-411a-9578-24cb7e38b639"
      },
      "execution_count": null,
      "outputs": [
        {
          "output_type": "execute_result",
          "data": {
            "text/plain": [
              ""
            ]
          },
          "metadata": {},
          "execution_count": 69
        }
      ]
    },
    {
      "cell_type": "code",
      "source": [
        "%%shell\n",
        "bash run.sh"
      ],
      "metadata": {
        "colab": {
          "base_uri": "https://localhost:8080/"
        },
        "id": "1KlKOLvpINAR",
        "outputId": "1559027c-96d0-4fdc-a85c-179cbff0e6a0"
      },
      "execution_count": null,
      "outputs": [
        {
          "output_type": "stream",
          "name": "stdout",
          "text": [
            "stage -1: Data Download\n",
            "local/download_and_untar.sh: removing existing file /content/dataset/aishell/data_aishell.tgz because its size in bytes 4899135883\n",
            "does not equal the size of one of the archives.\n",
            "local/download_and_untar.sh: downloading data from www.openslr.org/resources/33/data_aishell.tgz.  This may take some time, please be patient.\n",
            "--2022-05-23 07:32:51--  http://www.openslr.org/resources/33/data_aishell.tgz\n",
            "Resolving www.openslr.org (www.openslr.org)... 46.101.158.64\n",
            "Connecting to www.openslr.org (www.openslr.org)|46.101.158.64|:80... connected.\n",
            "HTTP request sent, awaiting response... 302 Found\n",
            "Location: https://us.openslr.org/resources/33/data_aishell.tgz [following]\n",
            "--2022-05-23 07:32:51--  https://us.openslr.org/resources/33/data_aishell.tgz\n",
            "Resolving us.openslr.org (us.openslr.org)... 46.101.158.64\n",
            "Connecting to us.openslr.org (us.openslr.org)|46.101.158.64|:443... connected.\n",
            "HTTP request sent, awaiting response... 200 OK\n",
            "Length: 15582913665 (15G) [application/x-gzip]\n",
            "Saving to: ‘data_aishell.tgz’\n",
            "\n",
            "data_aishell.tgz    100%[===================>]  14.51G  14.9MB/s    in 17m 53s \n",
            "\n",
            "2022-05-23 07:50:45 (13.9 MB/s) - ‘data_aishell.tgz’ saved [15582913665/15582913665]\n",
            "\n",
            "data_aishell/\n",
            "data_aishell/wav/\n",
            "data_aishell/wav/S0724.tar.gz\n",
            "data_aishell/wav/S0725.tar.gz\n",
            "data_aishell/wav/S0726.tar.gz\n",
            "data_aishell/wav/S0727.tar.gz\n",
            "data_aishell/wav/S0728.tar.gz\n",
            "data_aishell/wav/S0729.tar.gz\n",
            "data_aishell/wav/S0730.tar.gz\n",
            "data_aishell/wav/S0731.tar.gz\n",
            "data_aishell/wav/S0732.tar.gz\n",
            "data_aishell/wav/S0733.tar.gz\n",
            "data_aishell/wav/S0734.tar.gz\n",
            "data_aishell/wav/S0735.tar.gz\n",
            "data_aishell/wav/S0736.tar.gz\n",
            "data_aishell/wav/S0737.tar.gz\n",
            "data_aishell/wav/S0738.tar.gz\n",
            "data_aishell/wav/S0739.tar.gz\n",
            "data_aishell/wav/S0740.tar.gz\n",
            "data_aishell/wav/S0741.tar.gz\n",
            "data_aishell/wav/S0742.tar.gz\n",
            "data_aishell/wav/S0743.tar.gz\n",
            "data_aishell/wav/S0744.tar.gz\n",
            "data_aishell/wav/S0745.tar.gz\n",
            "data_aishell/wav/S0746.tar.gz\n",
            "data_aishell/wav/S0747.tar.gz\n",
            "data_aishell/wav/S0748.tar.gz\n",
            "data_aishell/wav/S0749.tar.gz\n",
            "data_aishell/wav/S0750.tar.gz\n",
            "data_aishell/wav/S0751.tar.gz\n",
            "data_aishell/wav/S0752.tar.gz\n",
            "data_aishell/wav/S0753.tar.gz\n",
            "data_aishell/wav/S0754.tar.gz\n",
            "data_aishell/wav/S0755.tar.gz\n",
            "data_aishell/wav/S0756.tar.gz\n",
            "data_aishell/wav/S0757.tar.gz\n",
            "data_aishell/wav/S0758.tar.gz\n",
            "data_aishell/wav/S0759.tar.gz\n",
            "data_aishell/wav/S0760.tar.gz\n",
            "data_aishell/wav/S0761.tar.gz\n",
            "data_aishell/wav/S0762.tar.gz\n",
            "data_aishell/wav/S0763.tar.gz\n",
            "data_aishell/wav/S0764.tar.gz\n",
            "data_aishell/wav/S0765.tar.gz\n",
            "data_aishell/wav/S0766.tar.gz\n",
            "data_aishell/wav/S0767.tar.gz\n",
            "data_aishell/wav/S0768.tar.gz\n",
            "data_aishell/wav/S0769.tar.gz\n",
            "data_aishell/wav/S0770.tar.gz\n",
            "data_aishell/wav/S0901.tar.gz\n",
            "data_aishell/wav/S0902.tar.gz\n",
            "data_aishell/wav/S0903.tar.gz\n",
            "data_aishell/wav/S0904.tar.gz\n",
            "data_aishell/wav/S0905.tar.gz\n",
            "data_aishell/wav/S0906.tar.gz\n",
            "data_aishell/wav/S0907.tar.gz\n",
            "data_aishell/wav/S0908.tar.gz\n",
            "data_aishell/wav/S0912.tar.gz\n",
            "data_aishell/wav/S0913.tar.gz\n",
            "data_aishell/wav/S0914.tar.gz\n",
            "data_aishell/wav/S0915.tar.gz\n",
            "data_aishell/wav/S0916.tar.gz\n",
            "data_aishell/wav/S0002.tar.gz\n",
            "data_aishell/wav/S0003.tar.gz\n",
            "data_aishell/wav/S0004.tar.gz\n",
            "data_aishell/wav/S0005.tar.gz\n",
            "data_aishell/wav/S0006.tar.gz\n",
            "data_aishell/wav/S0007.tar.gz\n",
            "data_aishell/wav/S0008.tar.gz\n",
            "data_aishell/wav/S0009.tar.gz\n",
            "data_aishell/wav/S0010.tar.gz\n",
            "data_aishell/wav/S0011.tar.gz\n",
            "data_aishell/wav/S0012.tar.gz\n",
            "data_aishell/wav/S0013.tar.gz\n",
            "data_aishell/wav/S0014.tar.gz\n",
            "data_aishell/wav/S0015.tar.gz\n",
            "data_aishell/wav/S0016.tar.gz\n",
            "data_aishell/wav/S0017.tar.gz\n",
            "data_aishell/wav/S0018.tar.gz\n",
            "data_aishell/wav/S0019.tar.gz\n",
            "data_aishell/wav/S0020.tar.gz\n",
            "data_aishell/wav/S0021.tar.gz\n",
            "data_aishell/wav/S0022.tar.gz\n",
            "data_aishell/wav/S0023.tar.gz\n",
            "data_aishell/wav/S0024.tar.gz\n",
            "data_aishell/wav/S0025.tar.gz\n",
            "data_aishell/wav/S0026.tar.gz\n",
            "data_aishell/wav/S0027.tar.gz\n",
            "data_aishell/wav/S0028.tar.gz\n",
            "data_aishell/wav/S0029.tar.gz\n",
            "data_aishell/wav/S0030.tar.gz\n",
            "data_aishell/wav/S0031.tar.gz\n",
            "data_aishell/wav/S0032.tar.gz\n",
            "data_aishell/wav/S0033.tar.gz\n",
            "data_aishell/wav/S0034.tar.gz\n",
            "data_aishell/wav/S0035.tar.gz\n",
            "data_aishell/wav/S0036.tar.gz\n",
            "data_aishell/wav/S0037.tar.gz\n",
            "data_aishell/wav/S0038.tar.gz\n",
            "data_aishell/wav/S0039.tar.gz\n",
            "data_aishell/wav/S0040.tar.gz\n",
            "data_aishell/wav/S0041.tar.gz\n",
            "data_aishell/wav/S0042.tar.gz\n",
            "data_aishell/wav/S0043.tar.gz\n",
            "data_aishell/wav/S0044.tar.gz\n",
            "data_aishell/wav/S0045.tar.gz\n",
            "data_aishell/wav/S0046.tar.gz\n",
            "data_aishell/wav/S0047.tar.gz\n",
            "data_aishell/wav/S0048.tar.gz\n",
            "data_aishell/wav/S0049.tar.gz\n",
            "data_aishell/wav/S0050.tar.gz\n",
            "data_aishell/wav/S0051.tar.gz\n",
            "data_aishell/wav/S0052.tar.gz\n",
            "data_aishell/wav/S0053.tar.gz\n",
            "data_aishell/wav/S0054.tar.gz\n",
            "data_aishell/wav/S0055.tar.gz\n",
            "data_aishell/wav/S0056.tar.gz\n",
            "data_aishell/wav/S0057.tar.gz\n",
            "data_aishell/wav/S0058.tar.gz\n",
            "data_aishell/wav/S0059.tar.gz\n",
            "data_aishell/wav/S0060.tar.gz\n",
            "data_aishell/wav/S0061.tar.gz\n",
            "data_aishell/wav/S0062.tar.gz\n",
            "data_aishell/wav/S0063.tar.gz\n",
            "data_aishell/wav/S0064.tar.gz\n",
            "data_aishell/wav/S0065.tar.gz\n",
            "data_aishell/wav/S0066.tar.gz\n",
            "data_aishell/wav/S0067.tar.gz\n",
            "data_aishell/wav/S0068.tar.gz\n",
            "data_aishell/wav/S0069.tar.gz\n",
            "data_aishell/wav/S0070.tar.gz\n",
            "data_aishell/wav/S0071.tar.gz\n",
            "data_aishell/wav/S0072.tar.gz\n",
            "data_aishell/wav/S0073.tar.gz\n",
            "data_aishell/wav/S0074.tar.gz\n",
            "data_aishell/wav/S0075.tar.gz\n",
            "data_aishell/wav/S0076.tar.gz\n",
            "data_aishell/wav/S0077.tar.gz\n",
            "data_aishell/wav/S0078.tar.gz\n",
            "data_aishell/wav/S0079.tar.gz\n",
            "data_aishell/wav/S0080.tar.gz\n",
            "data_aishell/wav/S0081.tar.gz\n",
            "data_aishell/wav/S0082.tar.gz\n",
            "data_aishell/wav/S0083.tar.gz\n",
            "data_aishell/wav/S0084.tar.gz\n",
            "data_aishell/wav/S0085.tar.gz\n",
            "data_aishell/wav/S0086.tar.gz\n",
            "data_aishell/wav/S0087.tar.gz\n",
            "data_aishell/wav/S0088.tar.gz\n",
            "data_aishell/wav/S0089.tar.gz\n",
            "data_aishell/wav/S0090.tar.gz\n",
            "data_aishell/wav/S0091.tar.gz\n",
            "data_aishell/wav/S0092.tar.gz\n",
            "data_aishell/wav/S0093.tar.gz\n",
            "data_aishell/wav/S0094.tar.gz\n",
            "data_aishell/wav/S0095.tar.gz\n",
            "data_aishell/wav/S0096.tar.gz\n",
            "data_aishell/wav/S0097.tar.gz\n",
            "data_aishell/wav/S0098.tar.gz\n",
            "data_aishell/wav/S0099.tar.gz\n",
            "data_aishell/wav/S0100.tar.gz\n",
            "data_aishell/wav/S0101.tar.gz\n",
            "data_aishell/wav/S0102.tar.gz\n",
            "data_aishell/wav/S0103.tar.gz\n",
            "data_aishell/wav/S0104.tar.gz\n",
            "data_aishell/wav/S0105.tar.gz\n",
            "data_aishell/wav/S0106.tar.gz\n",
            "data_aishell/wav/S0107.tar.gz\n",
            "data_aishell/wav/S0108.tar.gz\n",
            "data_aishell/wav/S0109.tar.gz\n",
            "data_aishell/wav/S0110.tar.gz\n",
            "data_aishell/wav/S0111.tar.gz\n",
            "data_aishell/wav/S0112.tar.gz\n",
            "data_aishell/wav/S0113.tar.gz\n",
            "data_aishell/wav/S0114.tar.gz\n",
            "data_aishell/wav/S0115.tar.gz\n",
            "data_aishell/wav/S0116.tar.gz\n",
            "data_aishell/wav/S0117.tar.gz\n",
            "data_aishell/wav/S0118.tar.gz\n",
            "data_aishell/wav/S0119.tar.gz\n",
            "data_aishell/wav/S0120.tar.gz\n",
            "data_aishell/wav/S0121.tar.gz\n",
            "data_aishell/wav/S0122.tar.gz\n",
            "data_aishell/wav/S0123.tar.gz\n",
            "data_aishell/wav/S0124.tar.gz\n",
            "data_aishell/wav/S0125.tar.gz\n",
            "data_aishell/wav/S0126.tar.gz\n",
            "data_aishell/wav/S0127.tar.gz\n",
            "data_aishell/wav/S0128.tar.gz\n",
            "data_aishell/wav/S0129.tar.gz\n",
            "data_aishell/wav/S0130.tar.gz\n",
            "data_aishell/wav/S0131.tar.gz\n",
            "data_aishell/wav/S0132.tar.gz\n",
            "data_aishell/wav/S0133.tar.gz\n",
            "data_aishell/wav/S0134.tar.gz\n",
            "data_aishell/wav/S0135.tar.gz\n",
            "data_aishell/wav/S0136.tar.gz\n",
            "data_aishell/wav/S0137.tar.gz\n",
            "data_aishell/wav/S0138.tar.gz\n",
            "data_aishell/wav/S0139.tar.gz\n",
            "data_aishell/wav/S0140.tar.gz\n",
            "data_aishell/wav/S0141.tar.gz\n",
            "data_aishell/wav/S0142.tar.gz\n",
            "data_aishell/wav/S0143.tar.gz\n",
            "data_aishell/wav/S0144.tar.gz\n",
            "data_aishell/wav/S0145.tar.gz\n",
            "data_aishell/wav/S0146.tar.gz\n",
            "data_aishell/wav/S0147.tar.gz\n",
            "data_aishell/wav/S0148.tar.gz\n",
            "data_aishell/wav/S0149.tar.gz\n",
            "data_aishell/wav/S0150.tar.gz\n",
            "data_aishell/wav/S0151.tar.gz\n",
            "data_aishell/wav/S0152.tar.gz\n",
            "data_aishell/wav/S0153.tar.gz\n",
            "data_aishell/wav/S0154.tar.gz\n",
            "data_aishell/wav/S0155.tar.gz\n",
            "data_aishell/wav/S0156.tar.gz\n",
            "data_aishell/wav/S0157.tar.gz\n",
            "data_aishell/wav/S0158.tar.gz\n",
            "data_aishell/wav/S0159.tar.gz\n",
            "data_aishell/wav/S0160.tar.gz\n",
            "data_aishell/wav/S0161.tar.gz\n",
            "data_aishell/wav/S0162.tar.gz\n",
            "data_aishell/wav/S0163.tar.gz\n",
            "data_aishell/wav/S0164.tar.gz\n",
            "data_aishell/wav/S0165.tar.gz\n",
            "data_aishell/wav/S0166.tar.gz\n",
            "data_aishell/wav/S0167.tar.gz\n",
            "data_aishell/wav/S0168.tar.gz\n",
            "data_aishell/wav/S0169.tar.gz\n",
            "data_aishell/wav/S0170.tar.gz\n",
            "data_aishell/wav/S0171.tar.gz\n",
            "data_aishell/wav/S0172.tar.gz\n",
            "data_aishell/wav/S0173.tar.gz\n",
            "data_aishell/wav/S0174.tar.gz\n",
            "data_aishell/wav/S0175.tar.gz\n",
            "data_aishell/wav/S0176.tar.gz\n",
            "data_aishell/wav/S0177.tar.gz\n",
            "data_aishell/wav/S0178.tar.gz\n",
            "data_aishell/wav/S0179.tar.gz\n",
            "data_aishell/wav/S0180.tar.gz\n",
            "data_aishell/wav/S0181.tar.gz\n",
            "data_aishell/wav/S0182.tar.gz\n",
            "data_aishell/wav/S0183.tar.gz\n",
            "data_aishell/wav/S0184.tar.gz\n",
            "data_aishell/wav/S0185.tar.gz\n",
            "data_aishell/wav/S0186.tar.gz\n",
            "data_aishell/wav/S0187.tar.gz\n",
            "data_aishell/wav/S0188.tar.gz\n",
            "data_aishell/wav/S0189.tar.gz\n",
            "data_aishell/wav/S0190.tar.gz\n",
            "data_aishell/wav/S0191.tar.gz\n",
            "data_aishell/wav/S0192.tar.gz\n",
            "data_aishell/wav/S0193.tar.gz\n",
            "data_aishell/wav/S0194.tar.gz\n",
            "data_aishell/wav/S0195.tar.gz\n",
            "data_aishell/wav/S0196.tar.gz\n",
            "data_aishell/wav/S0197.tar.gz\n",
            "data_aishell/wav/S0198.tar.gz\n",
            "data_aishell/wav/S0199.tar.gz\n",
            "data_aishell/wav/S0200.tar.gz\n",
            "data_aishell/wav/S0201.tar.gz\n",
            "data_aishell/wav/S0202.tar.gz\n",
            "data_aishell/wav/S0203.tar.gz\n",
            "data_aishell/wav/S0204.tar.gz\n",
            "data_aishell/wav/S0205.tar.gz\n",
            "data_aishell/wav/S0206.tar.gz\n",
            "data_aishell/wav/S0207.tar.gz\n",
            "data_aishell/wav/S0208.tar.gz\n",
            "data_aishell/wav/S0209.tar.gz\n",
            "data_aishell/wav/S0210.tar.gz\n",
            "data_aishell/wav/S0211.tar.gz\n",
            "data_aishell/wav/S0212.tar.gz\n",
            "data_aishell/wav/S0213.tar.gz\n",
            "data_aishell/wav/S0214.tar.gz\n",
            "data_aishell/wav/S0215.tar.gz\n",
            "data_aishell/wav/S0216.tar.gz\n",
            "data_aishell/wav/S0217.tar.gz\n",
            "data_aishell/wav/S0218.tar.gz\n",
            "data_aishell/wav/S0219.tar.gz\n",
            "data_aishell/wav/S0220.tar.gz\n",
            "data_aishell/wav/S0221.tar.gz\n",
            "data_aishell/wav/S0222.tar.gz\n",
            "data_aishell/wav/S0223.tar.gz\n",
            "data_aishell/wav/S0224.tar.gz\n",
            "data_aishell/wav/S0225.tar.gz\n",
            "data_aishell/wav/S0226.tar.gz\n",
            "data_aishell/wav/S0227.tar.gz\n",
            "data_aishell/wav/S0228.tar.gz\n",
            "data_aishell/wav/S0229.tar.gz\n",
            "data_aishell/wav/S0230.tar.gz\n",
            "data_aishell/wav/S0231.tar.gz\n",
            "data_aishell/wav/S0232.tar.gz\n",
            "data_aishell/wav/S0233.tar.gz\n",
            "data_aishell/wav/S0234.tar.gz\n",
            "data_aishell/wav/S0235.tar.gz\n",
            "data_aishell/wav/S0236.tar.gz\n",
            "data_aishell/wav/S0237.tar.gz\n",
            "data_aishell/wav/S0238.tar.gz\n",
            "data_aishell/wav/S0239.tar.gz\n",
            "data_aishell/wav/S0240.tar.gz\n",
            "data_aishell/wav/S0241.tar.gz\n",
            "data_aishell/wav/S0242.tar.gz\n",
            "data_aishell/wav/S0243.tar.gz\n",
            "data_aishell/wav/S0244.tar.gz\n",
            "data_aishell/wav/S0245.tar.gz\n",
            "data_aishell/wav/S0246.tar.gz\n",
            "data_aishell/wav/S0247.tar.gz\n",
            "data_aishell/wav/S0248.tar.gz\n",
            "data_aishell/wav/S0249.tar.gz\n",
            "data_aishell/wav/S0250.tar.gz\n",
            "data_aishell/wav/S0251.tar.gz\n",
            "data_aishell/wav/S0252.tar.gz\n",
            "data_aishell/wav/S0334.tar.gz\n",
            "data_aishell/wav/S0335.tar.gz\n",
            "data_aishell/wav/S0336.tar.gz\n",
            "data_aishell/wav/S0337.tar.gz\n",
            "data_aishell/wav/S0338.tar.gz\n",
            "data_aishell/wav/S0339.tar.gz\n",
            "data_aishell/wav/S0340.tar.gz\n",
            "data_aishell/wav/S0341.tar.gz\n",
            "data_aishell/wav/S0342.tar.gz\n",
            "data_aishell/wav/S0343.tar.gz\n",
            "data_aishell/wav/S0344.tar.gz\n",
            "data_aishell/wav/S0345.tar.gz\n",
            "data_aishell/wav/S0346.tar.gz\n",
            "data_aishell/wav/S0347.tar.gz\n",
            "data_aishell/wav/S0348.tar.gz\n",
            "data_aishell/wav/S0349.tar.gz\n",
            "data_aishell/wav/S0350.tar.gz\n",
            "data_aishell/wav/S0351.tar.gz\n",
            "data_aishell/wav/S0352.tar.gz\n",
            "data_aishell/wav/S0353.tar.gz\n",
            "data_aishell/wav/S0354.tar.gz\n",
            "data_aishell/wav/S0355.tar.gz\n",
            "data_aishell/wav/S0356.tar.gz\n",
            "data_aishell/wav/S0357.tar.gz\n",
            "data_aishell/wav/S0358.tar.gz\n",
            "data_aishell/wav/S0359.tar.gz\n",
            "data_aishell/wav/S0360.tar.gz\n",
            "data_aishell/wav/S0361.tar.gz\n",
            "data_aishell/wav/S0362.tar.gz\n",
            "data_aishell/wav/S0363.tar.gz\n",
            "data_aishell/wav/S0421.tar.gz\n",
            "data_aishell/wav/S0422.tar.gz\n",
            "data_aishell/wav/S0423.tar.gz\n",
            "data_aishell/wav/S0509.tar.gz\n",
            "data_aishell/wav/S0510.tar.gz\n",
            "data_aishell/wav/S0511.tar.gz\n",
            "data_aishell/wav/S0512.tar.gz\n",
            "data_aishell/wav/S0513.tar.gz\n",
            "data_aishell/wav/S0514.tar.gz\n",
            "data_aishell/wav/S0515.tar.gz\n",
            "data_aishell/wav/S0516.tar.gz\n",
            "data_aishell/wav/S0517.tar.gz\n",
            "data_aishell/wav/S0518.tar.gz\n",
            "data_aishell/wav/S0519.tar.gz\n",
            "data_aishell/wav/S0520.tar.gz\n",
            "data_aishell/wav/S0521.tar.gz\n",
            "data_aishell/wav/S0522.tar.gz\n",
            "data_aishell/wav/S0523.tar.gz\n",
            "data_aishell/wav/S0596.tar.gz\n",
            "data_aishell/wav/S0597.tar.gz\n",
            "data_aishell/wav/S0598.tar.gz\n",
            "data_aishell/wav/S0599.tar.gz\n",
            "data_aishell/wav/S0600.tar.gz\n",
            "data_aishell/wav/S0601.tar.gz\n",
            "data_aishell/wav/S0655.tar.gz\n",
            "data_aishell/wav/S0656.tar.gz\n",
            "data_aishell/wav/S0657.tar.gz\n",
            "data_aishell/wav/S0658.tar.gz\n",
            "data_aishell/wav/S0659.tar.gz\n",
            "data_aishell/wav/S0660.tar.gz\n",
            "data_aishell/wav/S0661.tar.gz\n",
            "data_aishell/wav/S0662.tar.gz\n",
            "data_aishell/wav/S0663.tar.gz\n",
            "data_aishell/wav/S0664.tar.gz\n",
            "data_aishell/wav/S0665.tar.gz\n",
            "data_aishell/wav/S0666.tar.gz\n",
            "data_aishell/wav/S0701.tar.gz\n",
            "data_aishell/wav/S0702.tar.gz\n",
            "data_aishell/wav/S0703.tar.gz\n",
            "data_aishell/wav/S0704.tar.gz\n",
            "data_aishell/wav/S0705.tar.gz\n",
            "data_aishell/wav/S0706.tar.gz\n",
            "data_aishell/wav/S0707.tar.gz\n",
            "data_aishell/wav/S0708.tar.gz\n",
            "data_aishell/wav/S0709.tar.gz\n",
            "data_aishell/wav/S0710.tar.gz\n",
            "data_aishell/wav/S0711.tar.gz\n",
            "data_aishell/wav/S0712.tar.gz\n",
            "data_aishell/wav/S0713.tar.gz\n",
            "data_aishell/wav/S0714.tar.gz\n",
            "data_aishell/wav/S0715.tar.gz\n",
            "data_aishell/wav/S0716.tar.gz\n",
            "data_aishell/wav/S0717.tar.gz\n",
            "data_aishell/wav/S0718.tar.gz\n",
            "data_aishell/wav/S0719.tar.gz\n",
            "data_aishell/wav/S0720.tar.gz\n",
            "data_aishell/wav/S0721.tar.gz\n",
            "data_aishell/wav/S0722.tar.gz\n",
            "data_aishell/wav/S0723.tar.gz\n",
            "data_aishell/transcript/\n",
            "data_aishell/transcript/aishell_transcript_v0.8.txt\n",
            "Extracting wav from ./S0002.tar.gz\n",
            "Extracting wav from ./S0003.tar.gz\n",
            "Extracting wav from ./S0004.tar.gz\n",
            "Extracting wav from ./S0005.tar.gz\n",
            "Extracting wav from ./S0006.tar.gz\n",
            "Extracting wav from ./S0007.tar.gz\n",
            "Extracting wav from ./S0008.tar.gz\n",
            "Extracting wav from ./S0009.tar.gz\n",
            "Extracting wav from ./S0010.tar.gz\n",
            "Extracting wav from ./S0011.tar.gz\n",
            "Extracting wav from ./S0012.tar.gz\n",
            "Extracting wav from ./S0013.tar.gz\n",
            "Extracting wav from ./S0014.tar.gz\n",
            "Extracting wav from ./S0015.tar.gz\n",
            "Extracting wav from ./S0016.tar.gz\n",
            "Extracting wav from ./S0017.tar.gz\n",
            "Extracting wav from ./S0018.tar.gz\n",
            "Extracting wav from ./S0019.tar.gz\n",
            "Extracting wav from ./S0020.tar.gz\n",
            "Extracting wav from ./S0021.tar.gz\n",
            "Extracting wav from ./S0022.tar.gz\n",
            "Extracting wav from ./S0023.tar.gz\n",
            "Extracting wav from ./S0024.tar.gz\n",
            "Extracting wav from ./S0025.tar.gz\n",
            "Extracting wav from ./S0026.tar.gz\n",
            "Extracting wav from ./S0027.tar.gz\n",
            "Extracting wav from ./S0028.tar.gz\n",
            "Extracting wav from ./S0029.tar.gz\n",
            "Extracting wav from ./S0030.tar.gz\n",
            "Extracting wav from ./S0031.tar.gz\n",
            "Extracting wav from ./S0032.tar.gz\n",
            "Extracting wav from ./S0033.tar.gz\n",
            "Extracting wav from ./S0034.tar.gz\n",
            "Extracting wav from ./S0035.tar.gz\n",
            "Extracting wav from ./S0036.tar.gz\n",
            "Extracting wav from ./S0037.tar.gz\n",
            "Extracting wav from ./S0038.tar.gz\n",
            "Extracting wav from ./S0039.tar.gz\n",
            "Extracting wav from ./S0040.tar.gz\n",
            "Extracting wav from ./S0041.tar.gz\n",
            "Extracting wav from ./S0042.tar.gz\n",
            "Extracting wav from ./S0043.tar.gz\n",
            "Extracting wav from ./S0044.tar.gz\n",
            "Extracting wav from ./S0045.tar.gz\n",
            "Extracting wav from ./S0046.tar.gz\n",
            "Extracting wav from ./S0047.tar.gz\n",
            "Extracting wav from ./S0048.tar.gz\n",
            "Extracting wav from ./S0049.tar.gz\n",
            "Extracting wav from ./S0050.tar.gz\n",
            "Extracting wav from ./S0051.tar.gz\n",
            "Extracting wav from ./S0052.tar.gz\n",
            "Extracting wav from ./S0053.tar.gz\n",
            "Extracting wav from ./S0054.tar.gz\n",
            "Extracting wav from ./S0055.tar.gz\n",
            "Extracting wav from ./S0056.tar.gz\n",
            "Extracting wav from ./S0057.tar.gz\n",
            "Extracting wav from ./S0058.tar.gz\n",
            "Extracting wav from ./S0059.tar.gz\n",
            "Extracting wav from ./S0060.tar.gz\n",
            "Extracting wav from ./S0061.tar.gz\n",
            "Extracting wav from ./S0062.tar.gz\n",
            "Extracting wav from ./S0063.tar.gz\n",
            "Extracting wav from ./S0064.tar.gz\n",
            "Extracting wav from ./S0065.tar.gz\n",
            "Extracting wav from ./S0066.tar.gz\n",
            "Extracting wav from ./S0067.tar.gz\n",
            "Extracting wav from ./S0068.tar.gz\n",
            "Extracting wav from ./S0069.tar.gz\n",
            "Extracting wav from ./S0070.tar.gz\n",
            "Extracting wav from ./S0071.tar.gz\n",
            "Extracting wav from ./S0072.tar.gz\n",
            "Extracting wav from ./S0073.tar.gz\n",
            "Extracting wav from ./S0074.tar.gz\n",
            "Extracting wav from ./S0075.tar.gz\n",
            "Extracting wav from ./S0076.tar.gz\n",
            "Extracting wav from ./S0077.tar.gz\n",
            "Extracting wav from ./S0078.tar.gz\n",
            "Extracting wav from ./S0079.tar.gz\n",
            "Extracting wav from ./S0080.tar.gz\n",
            "Extracting wav from ./S0081.tar.gz\n",
            "Extracting wav from ./S0082.tar.gz\n",
            "Extracting wav from ./S0083.tar.gz\n",
            "Extracting wav from ./S0084.tar.gz\n",
            "Extracting wav from ./S0085.tar.gz\n",
            "Extracting wav from ./S0086.tar.gz\n",
            "Extracting wav from ./S0087.tar.gz\n",
            "Extracting wav from ./S0088.tar.gz\n",
            "Extracting wav from ./S0089.tar.gz\n",
            "Extracting wav from ./S0090.tar.gz\n",
            "Extracting wav from ./S0091.tar.gz\n",
            "Extracting wav from ./S0092.tar.gz\n",
            "Extracting wav from ./S0093.tar.gz\n",
            "Extracting wav from ./S0094.tar.gz\n",
            "Extracting wav from ./S0095.tar.gz\n",
            "Extracting wav from ./S0096.tar.gz\n",
            "Extracting wav from ./S0097.tar.gz\n",
            "Extracting wav from ./S0098.tar.gz\n",
            "Extracting wav from ./S0099.tar.gz\n",
            "Extracting wav from ./S0100.tar.gz\n",
            "Extracting wav from ./S0101.tar.gz\n",
            "Extracting wav from ./S0102.tar.gz\n",
            "Extracting wav from ./S0103.tar.gz\n",
            "Extracting wav from ./S0104.tar.gz\n",
            "Extracting wav from ./S0105.tar.gz\n",
            "Extracting wav from ./S0106.tar.gz\n",
            "Extracting wav from ./S0107.tar.gz\n",
            "Extracting wav from ./S0108.tar.gz\n",
            "Extracting wav from ./S0109.tar.gz\n",
            "Extracting wav from ./S0110.tar.gz\n",
            "Extracting wav from ./S0111.tar.gz\n",
            "Extracting wav from ./S0112.tar.gz\n",
            "Extracting wav from ./S0113.tar.gz\n",
            "Extracting wav from ./S0114.tar.gz\n",
            "Extracting wav from ./S0115.tar.gz\n",
            "Extracting wav from ./S0116.tar.gz\n",
            "Extracting wav from ./S0117.tar.gz\n",
            "Extracting wav from ./S0118.tar.gz\n",
            "Extracting wav from ./S0119.tar.gz\n",
            "Extracting wav from ./S0120.tar.gz\n",
            "Extracting wav from ./S0121.tar.gz\n",
            "Extracting wav from ./S0122.tar.gz\n",
            "Extracting wav from ./S0123.tar.gz\n",
            "Extracting wav from ./S0124.tar.gz\n",
            "Extracting wav from ./S0125.tar.gz\n",
            "Extracting wav from ./S0126.tar.gz\n",
            "Extracting wav from ./S0127.tar.gz\n",
            "Extracting wav from ./S0128.tar.gz\n",
            "Extracting wav from ./S0129.tar.gz\n",
            "Extracting wav from ./S0130.tar.gz\n",
            "Extracting wav from ./S0131.tar.gz\n",
            "Extracting wav from ./S0132.tar.gz\n",
            "Extracting wav from ./S0133.tar.gz\n",
            "Extracting wav from ./S0134.tar.gz\n",
            "Extracting wav from ./S0135.tar.gz\n",
            "Extracting wav from ./S0136.tar.gz\n",
            "Extracting wav from ./S0137.tar.gz\n",
            "Extracting wav from ./S0138.tar.gz\n",
            "Extracting wav from ./S0139.tar.gz\n",
            "Extracting wav from ./S0140.tar.gz\n",
            "Extracting wav from ./S0141.tar.gz\n",
            "Extracting wav from ./S0142.tar.gz\n",
            "Extracting wav from ./S0143.tar.gz\n",
            "Extracting wav from ./S0144.tar.gz\n",
            "Extracting wav from ./S0145.tar.gz\n",
            "Extracting wav from ./S0146.tar.gz\n",
            "Extracting wav from ./S0147.tar.gz\n",
            "Extracting wav from ./S0148.tar.gz\n",
            "Extracting wav from ./S0149.tar.gz\n",
            "Extracting wav from ./S0150.tar.gz\n",
            "Extracting wav from ./S0151.tar.gz\n",
            "Extracting wav from ./S0152.tar.gz\n",
            "Extracting wav from ./S0153.tar.gz\n",
            "Extracting wav from ./S0154.tar.gz\n",
            "Extracting wav from ./S0155.tar.gz\n",
            "Extracting wav from ./S0156.tar.gz\n",
            "Extracting wav from ./S0157.tar.gz\n",
            "Extracting wav from ./S0158.tar.gz\n",
            "Extracting wav from ./S0159.tar.gz\n",
            "Extracting wav from ./S0160.tar.gz\n",
            "Extracting wav from ./S0161.tar.gz\n",
            "Extracting wav from ./S0162.tar.gz\n",
            "Extracting wav from ./S0163.tar.gz\n",
            "Extracting wav from ./S0164.tar.gz\n",
            "Extracting wav from ./S0165.tar.gz\n",
            "Extracting wav from ./S0166.tar.gz\n",
            "Extracting wav from ./S0167.tar.gz\n",
            "Extracting wav from ./S0168.tar.gz\n",
            "Extracting wav from ./S0169.tar.gz\n",
            "Extracting wav from ./S0170.tar.gz\n",
            "Extracting wav from ./S0171.tar.gz\n",
            "Extracting wav from ./S0172.tar.gz\n",
            "Extracting wav from ./S0173.tar.gz\n",
            "Extracting wav from ./S0174.tar.gz\n",
            "Extracting wav from ./S0175.tar.gz\n",
            "Extracting wav from ./S0176.tar.gz\n",
            "Extracting wav from ./S0177.tar.gz\n",
            "Extracting wav from ./S0178.tar.gz\n",
            "Extracting wav from ./S0179.tar.gz\n",
            "Extracting wav from ./S0180.tar.gz\n",
            "Extracting wav from ./S0181.tar.gz\n",
            "Extracting wav from ./S0182.tar.gz\n",
            "Extracting wav from ./S0183.tar.gz\n",
            "Extracting wav from ./S0184.tar.gz\n",
            "Extracting wav from ./S0185.tar.gz\n",
            "Extracting wav from ./S0186.tar.gz\n",
            "Extracting wav from ./S0187.tar.gz\n",
            "Extracting wav from ./S0188.tar.gz\n",
            "Extracting wav from ./S0189.tar.gz\n",
            "Extracting wav from ./S0190.tar.gz\n",
            "Extracting wav from ./S0191.tar.gz\n",
            "Extracting wav from ./S0192.tar.gz\n",
            "Extracting wav from ./S0193.tar.gz\n",
            "Extracting wav from ./S0194.tar.gz\n",
            "Extracting wav from ./S0195.tar.gz\n",
            "Extracting wav from ./S0196.tar.gz\n",
            "Extracting wav from ./S0197.tar.gz\n",
            "Extracting wav from ./S0198.tar.gz\n",
            "Extracting wav from ./S0199.tar.gz\n",
            "Extracting wav from ./S0200.tar.gz\n",
            "Extracting wav from ./S0201.tar.gz\n",
            "Extracting wav from ./S0202.tar.gz\n",
            "Extracting wav from ./S0203.tar.gz\n",
            "Extracting wav from ./S0204.tar.gz\n",
            "Extracting wav from ./S0205.tar.gz\n",
            "Extracting wav from ./S0206.tar.gz\n",
            "Extracting wav from ./S0207.tar.gz\n",
            "Extracting wav from ./S0208.tar.gz\n",
            "Extracting wav from ./S0209.tar.gz\n",
            "Extracting wav from ./S0210.tar.gz\n",
            "Extracting wav from ./S0211.tar.gz\n",
            "Extracting wav from ./S0212.tar.gz\n",
            "Extracting wav from ./S0213.tar.gz\n",
            "Extracting wav from ./S0214.tar.gz\n",
            "Extracting wav from ./S0215.tar.gz\n",
            "Extracting wav from ./S0216.tar.gz\n",
            "Extracting wav from ./S0217.tar.gz\n",
            "Extracting wav from ./S0218.tar.gz\n",
            "Extracting wav from ./S0219.tar.gz\n",
            "Extracting wav from ./S0220.tar.gz\n",
            "Extracting wav from ./S0221.tar.gz\n",
            "Extracting wav from ./S0222.tar.gz\n",
            "Extracting wav from ./S0223.tar.gz\n",
            "Extracting wav from ./S0224.tar.gz\n",
            "Extracting wav from ./S0225.tar.gz\n",
            "Extracting wav from ./S0226.tar.gz\n",
            "Extracting wav from ./S0227.tar.gz\n",
            "Extracting wav from ./S0228.tar.gz\n",
            "Extracting wav from ./S0229.tar.gz\n",
            "Extracting wav from ./S0230.tar.gz\n",
            "Extracting wav from ./S0231.tar.gz\n",
            "Extracting wav from ./S0232.tar.gz\n",
            "Extracting wav from ./S0233.tar.gz\n",
            "Extracting wav from ./S0234.tar.gz\n",
            "Extracting wav from ./S0235.tar.gz\n",
            "Extracting wav from ./S0236.tar.gz\n",
            "Extracting wav from ./S0237.tar.gz\n",
            "Extracting wav from ./S0238.tar.gz\n",
            "Extracting wav from ./S0239.tar.gz\n",
            "Extracting wav from ./S0240.tar.gz\n",
            "Extracting wav from ./S0241.tar.gz\n",
            "Extracting wav from ./S0242.tar.gz\n",
            "Extracting wav from ./S0243.tar.gz\n",
            "Extracting wav from ./S0244.tar.gz\n",
            "Extracting wav from ./S0245.tar.gz\n",
            "Extracting wav from ./S0246.tar.gz\n",
            "Extracting wav from ./S0247.tar.gz\n",
            "Extracting wav from ./S0248.tar.gz\n",
            "Extracting wav from ./S0249.tar.gz\n",
            "Extracting wav from ./S0250.tar.gz\n",
            "Extracting wav from ./S0251.tar.gz\n",
            "Extracting wav from ./S0252.tar.gz\n",
            "Extracting wav from ./S0334.tar.gz\n",
            "Extracting wav from ./S0335.tar.gz\n",
            "Extracting wav from ./S0336.tar.gz\n",
            "Extracting wav from ./S0337.tar.gz\n",
            "Extracting wav from ./S0338.tar.gz\n",
            "Extracting wav from ./S0339.tar.gz\n",
            "Extracting wav from ./S0340.tar.gz\n",
            "Extracting wav from ./S0341.tar.gz\n",
            "Extracting wav from ./S0342.tar.gz\n",
            "Extracting wav from ./S0343.tar.gz\n",
            "Extracting wav from ./S0344.tar.gz\n",
            "Extracting wav from ./S0345.tar.gz\n",
            "Extracting wav from ./S0346.tar.gz\n",
            "Extracting wav from ./S0347.tar.gz\n",
            "Extracting wav from ./S0348.tar.gz\n",
            "Extracting wav from ./S0349.tar.gz\n",
            "Extracting wav from ./S0350.tar.gz\n",
            "Extracting wav from ./S0351.tar.gz\n",
            "Extracting wav from ./S0352.tar.gz\n",
            "Extracting wav from ./S0353.tar.gz\n",
            "Extracting wav from ./S0354.tar.gz\n",
            "Extracting wav from ./S0355.tar.gz\n",
            "Extracting wav from ./S0356.tar.gz\n",
            "Extracting wav from ./S0357.tar.gz\n",
            "Extracting wav from ./S0358.tar.gz\n",
            "Extracting wav from ./S0359.tar.gz\n",
            "Extracting wav from ./S0360.tar.gz\n",
            "Extracting wav from ./S0361.tar.gz\n",
            "Extracting wav from ./S0362.tar.gz\n",
            "Extracting wav from ./S0363.tar.gz\n",
            "Extracting wav from ./S0421.tar.gz\n",
            "Extracting wav from ./S0422.tar.gz\n",
            "Extracting wav from ./S0423.tar.gz\n",
            "Extracting wav from ./S0509.tar.gz\n",
            "Extracting wav from ./S0510.tar.gz\n",
            "Extracting wav from ./S0511.tar.gz\n",
            "Extracting wav from ./S0512.tar.gz\n",
            "Extracting wav from ./S0513.tar.gz\n",
            "Extracting wav from ./S0514.tar.gz\n",
            "Extracting wav from ./S0515.tar.gz\n",
            "Extracting wav from ./S0516.tar.gz\n",
            "Extracting wav from ./S0517.tar.gz\n",
            "Extracting wav from ./S0518.tar.gz\n",
            "Extracting wav from ./S0519.tar.gz\n",
            "Extracting wav from ./S0520.tar.gz\n",
            "Extracting wav from ./S0521.tar.gz\n",
            "Extracting wav from ./S0522.tar.gz\n",
            "Extracting wav from ./S0523.tar.gz\n",
            "Extracting wav from ./S0596.tar.gz\n",
            "Extracting wav from ./S0597.tar.gz\n"
          ]
        }
      ]
    },
    {
      "cell_type": "code",
      "source": [
        ""
      ],
      "metadata": {
        "id": "tRJqL0AaL3LO"
      },
      "execution_count": null,
      "outputs": []
    },
    {
      "cell_type": "code",
      "source": [
        "%%shell\n",
        "tail -f run.sh.log.stage.-1"
      ],
      "metadata": {
        "id": "uypYdPc-Qq4V",
        "colab": {
          "base_uri": "https://localhost:8080/",
          "height": 511
        },
        "outputId": "aca01438-e865-4b63-f19d-1bb5a17a89af"
      },
      "execution_count": null,
      "outputs": [
        {
          "output_type": "stream",
          "name": "stdout",
          "text": [
            "2830400K .......... .......... .......... .......... .......... 18% 10.2M 9m51s\n",
            "2830450K .......... .......... .......... .......... .......... 18%  171M 9m51s\n",
            "2830500K .......... .......... .......... .......... .......... 18%  244M 9m51s\n",
            "2830550K .......... .......... .......... .......... .......... 18% 3.46M 9m51s\n",
            "2830600K .......... .......... .......... .......... .......... 18%  206M 9m51s\n",
            "2830650K .......... .......... .......... .......... .......... 18% 14.6M 9m51s\n",
            "2830700K .......... .......... .......... .......... .......... 18% 53.4M 9m51s\n",
            "2830750K .......... .......... .......... .......... .......... 18%  152M 9m51s\n",
            "2830800K .......... .......... .......... .......... .......... 18%  162M 9m51s\n",
            "2830850K .......... .......... ...."
          ]
        },
        {
          "output_type": "error",
          "ename": "CalledProcessError",
          "evalue": "ignored",
          "traceback": [
            "\u001b[0;31m---------------------------------------------------------------------------\u001b[0m",
            "\u001b[0;31mCalledProcessError\u001b[0m                        Traceback (most recent call last)",
            "\u001b[0;32m<ipython-input-24-eeff040f2994>\u001b[0m in \u001b[0;36m<module>\u001b[0;34m()\u001b[0m\n\u001b[0;32m----> 1\u001b[0;31m \u001b[0mget_ipython\u001b[0m\u001b[0;34m(\u001b[0m\u001b[0;34m)\u001b[0m\u001b[0;34m.\u001b[0m\u001b[0mrun_cell_magic\u001b[0m\u001b[0;34m(\u001b[0m\u001b[0;34m'shell'\u001b[0m\u001b[0;34m,\u001b[0m \u001b[0;34m''\u001b[0m\u001b[0;34m,\u001b[0m \u001b[0;34m'tail -f run.sh.log.stage.-1'\u001b[0m\u001b[0;34m)\u001b[0m\u001b[0;34m\u001b[0m\u001b[0;34m\u001b[0m\u001b[0m\n\u001b[0m",
            "\u001b[0;32m/usr/local/lib/python3.7/dist-packages/IPython/core/interactiveshell.py\u001b[0m in \u001b[0;36mrun_cell_magic\u001b[0;34m(self, magic_name, line, cell)\u001b[0m\n\u001b[1;32m   2115\u001b[0m             \u001b[0mmagic_arg_s\u001b[0m \u001b[0;34m=\u001b[0m \u001b[0mself\u001b[0m\u001b[0;34m.\u001b[0m\u001b[0mvar_expand\u001b[0m\u001b[0;34m(\u001b[0m\u001b[0mline\u001b[0m\u001b[0;34m,\u001b[0m \u001b[0mstack_depth\u001b[0m\u001b[0;34m)\u001b[0m\u001b[0;34m\u001b[0m\u001b[0;34m\u001b[0m\u001b[0m\n\u001b[1;32m   2116\u001b[0m             \u001b[0;32mwith\u001b[0m \u001b[0mself\u001b[0m\u001b[0;34m.\u001b[0m\u001b[0mbuiltin_trap\u001b[0m\u001b[0;34m:\u001b[0m\u001b[0;34m\u001b[0m\u001b[0;34m\u001b[0m\u001b[0m\n\u001b[0;32m-> 2117\u001b[0;31m                 \u001b[0mresult\u001b[0m \u001b[0;34m=\u001b[0m \u001b[0mfn\u001b[0m\u001b[0;34m(\u001b[0m\u001b[0mmagic_arg_s\u001b[0m\u001b[0;34m,\u001b[0m \u001b[0mcell\u001b[0m\u001b[0;34m)\u001b[0m\u001b[0;34m\u001b[0m\u001b[0;34m\u001b[0m\u001b[0m\n\u001b[0m\u001b[1;32m   2118\u001b[0m             \u001b[0;32mreturn\u001b[0m \u001b[0mresult\u001b[0m\u001b[0;34m\u001b[0m\u001b[0;34m\u001b[0m\u001b[0m\n\u001b[1;32m   2119\u001b[0m \u001b[0;34m\u001b[0m\u001b[0m\n",
            "\u001b[0;32m/usr/local/lib/python3.7/dist-packages/google/colab/_system_commands.py\u001b[0m in \u001b[0;36m_shell_cell_magic\u001b[0;34m(args, cmd)\u001b[0m\n\u001b[1;32m    111\u001b[0m   \u001b[0mresult\u001b[0m \u001b[0;34m=\u001b[0m \u001b[0m_run_command\u001b[0m\u001b[0;34m(\u001b[0m\u001b[0mcmd\u001b[0m\u001b[0;34m,\u001b[0m \u001b[0mclear_streamed_output\u001b[0m\u001b[0;34m=\u001b[0m\u001b[0;32mFalse\u001b[0m\u001b[0;34m)\u001b[0m\u001b[0;34m\u001b[0m\u001b[0;34m\u001b[0m\u001b[0m\n\u001b[1;32m    112\u001b[0m   \u001b[0;32mif\u001b[0m \u001b[0;32mnot\u001b[0m \u001b[0mparsed_args\u001b[0m\u001b[0;34m.\u001b[0m\u001b[0mignore_errors\u001b[0m\u001b[0;34m:\u001b[0m\u001b[0;34m\u001b[0m\u001b[0;34m\u001b[0m\u001b[0m\n\u001b[0;32m--> 113\u001b[0;31m     \u001b[0mresult\u001b[0m\u001b[0;34m.\u001b[0m\u001b[0mcheck_returncode\u001b[0m\u001b[0;34m(\u001b[0m\u001b[0;34m)\u001b[0m\u001b[0;34m\u001b[0m\u001b[0;34m\u001b[0m\u001b[0m\n\u001b[0m\u001b[1;32m    114\u001b[0m   \u001b[0;32mreturn\u001b[0m \u001b[0mresult\u001b[0m\u001b[0;34m\u001b[0m\u001b[0;34m\u001b[0m\u001b[0m\n\u001b[1;32m    115\u001b[0m \u001b[0;34m\u001b[0m\u001b[0m\n",
            "\u001b[0;32m/usr/local/lib/python3.7/dist-packages/google/colab/_system_commands.py\u001b[0m in \u001b[0;36mcheck_returncode\u001b[0;34m(self)\u001b[0m\n\u001b[1;32m    137\u001b[0m     \u001b[0;32mif\u001b[0m \u001b[0mself\u001b[0m\u001b[0;34m.\u001b[0m\u001b[0mreturncode\u001b[0m\u001b[0;34m:\u001b[0m\u001b[0;34m\u001b[0m\u001b[0;34m\u001b[0m\u001b[0m\n\u001b[1;32m    138\u001b[0m       raise subprocess.CalledProcessError(\n\u001b[0;32m--> 139\u001b[0;31m           returncode=self.returncode, cmd=self.args, output=self.output)\n\u001b[0m\u001b[1;32m    140\u001b[0m \u001b[0;34m\u001b[0m\u001b[0m\n\u001b[1;32m    141\u001b[0m   \u001b[0;32mdef\u001b[0m \u001b[0m_repr_pretty_\u001b[0m\u001b[0;34m(\u001b[0m\u001b[0mself\u001b[0m\u001b[0;34m,\u001b[0m \u001b[0mp\u001b[0m\u001b[0;34m,\u001b[0m \u001b[0mcycle\u001b[0m\u001b[0;34m)\u001b[0m\u001b[0;34m:\u001b[0m  \u001b[0;31m# pylint:disable=unused-argument\u001b[0m\u001b[0;34m\u001b[0m\u001b[0;34m\u001b[0m\u001b[0m\n",
            "\u001b[0;31mCalledProcessError\u001b[0m: Command 'tail -f run.sh.log.stage.-1' died with <Signals.SIGINT: 2>."
          ]
        }
      ]
    },
    {
      "cell_type": "code",
      "source": [
        "cd local"
      ],
      "metadata": {
        "colab": {
          "base_uri": "https://localhost:8080/"
        },
        "id": "DApkrollWwaG",
        "outputId": "196a11fd-4e14-414f-c6b2-22f7fdd03e4f"
      },
      "execution_count": null,
      "outputs": [
        {
          "output_type": "stream",
          "name": "stdout",
          "text": [
            "/content/gdrive/MyDrive/Colab Notebooks/wenet/examples/aishell/s0/local\n"
          ]
        }
      ]
    },
    {
      "cell_type": "code",
      "source": [
        "ls"
      ],
      "metadata": {
        "colab": {
          "base_uri": "https://localhost:8080/"
        },
        "id": "NzkhL1OoWz2V",
        "outputId": "be42e34b-615e-4dd2-8d41-a9fb0fe4cb3c"
      },
      "execution_count": null,
      "outputs": [
        {
          "output_type": "stream",
          "name": "stdout",
          "text": [
            "aishell_data_prep.sh  download_and_untar.sh\n",
            "aishell_train_lms.sh  run.sh.log.stage.-1\n"
          ]
        }
      ]
    },
    {
      "cell_type": "code",
      "source": [
        "!apt-get install dos2unix.*"
      ],
      "metadata": {
        "colab": {
          "base_uri": "https://localhost:8080/"
        },
        "id": "kaAReMMgTg9k",
        "outputId": "660e8011-83f3-4580-c75e-c4dbc33ce152"
      },
      "execution_count": null,
      "outputs": [
        {
          "output_type": "stream",
          "name": "stdout",
          "text": [
            "Reading package lists... Done\n",
            "Building dependency tree       \n",
            "Reading state information... Done\n",
            "Note, selecting 'dos2unix' for regex 'dos2unix.*'\n",
            "The following packages were automatically installed and are no longer required:\n",
            "  libnvidia-common-460 nsight-compute-2020.2.0\n",
            "Use 'apt autoremove' to remove them.\n",
            "The following NEW packages will be installed:\n",
            "  dos2unix\n",
            "0 upgraded, 1 newly installed, 0 to remove and 42 not upgraded.\n",
            "Need to get 351 kB of archives.\n",
            "After this operation, 1,267 kB of additional disk space will be used.\n",
            "Get:1 http://archive.ubuntu.com/ubuntu bionic/universe amd64 dos2unix amd64 7.3.4-3 [351 kB]\n",
            "Fetched 351 kB in 2s (220 kB/s)\n",
            "Selecting previously unselected package dos2unix.\n",
            "(Reading database ... 155203 files and directories currently installed.)\n",
            "Preparing to unpack .../dos2unix_7.3.4-3_amd64.deb ...\n",
            "Unpacking dos2unix (7.3.4-3) ...\n",
            "Setting up dos2unix (7.3.4-3) ...\n",
            "Processing triggers for man-db (2.8.3-2ubuntu0.1) ...\n"
          ]
        }
      ]
    },
    {
      "cell_type": "code",
      "source": [
        "cd local\n"
      ],
      "metadata": {
        "colab": {
          "base_uri": "https://localhost:8080/"
        },
        "id": "PBOm76JmUXRl",
        "outputId": "57c91166-e163-438d-d8e5-35cac55475db"
      },
      "execution_count": null,
      "outputs": [
        {
          "output_type": "stream",
          "name": "stdout",
          "text": [
            "[Errno 2] No such file or directory: 'local'\n",
            "/content/gdrive/MyDrive/Colab Notebooks/wenet/examples/aishell/s0/local\n"
          ]
        }
      ]
    },
    {
      "cell_type": "code",
      "source": [
        "dos2unix download_and_untar.sh"
      ],
      "metadata": {
        "colab": {
          "base_uri": "https://localhost:8080/",
          "height": 138
        },
        "id": "jTSKH4QBTTp1",
        "outputId": "503ca23a-1ae9-4c17-8d43-2d60483f790b"
      },
      "execution_count": null,
      "outputs": [
        {
          "output_type": "error",
          "ename": "SyntaxError",
          "evalue": "ignored",
          "traceback": [
            "\u001b[0;36m  File \u001b[0;32m\"<ipython-input-61-1faa704269be>\"\u001b[0;36m, line \u001b[0;32m1\u001b[0m\n\u001b[0;31m    dos2unix download_and_untar.sh\u001b[0m\n\u001b[0m                              ^\u001b[0m\n\u001b[0;31mSyntaxError\u001b[0m\u001b[0;31m:\u001b[0m invalid syntax\n"
          ]
        }
      ]
    }
  ]
}